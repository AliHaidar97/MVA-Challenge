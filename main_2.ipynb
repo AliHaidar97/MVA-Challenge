{
 "cells": [
  {
   "cell_type": "code",
   "execution_count": 133,
   "metadata": {},
   "outputs": [],
   "source": [
    "import numpy as np\n",
    "import pandas as pd\n",
    "from scipy.stats import spearmanr\n",
    "from sklearn.linear_model import LinearRegression\n",
    "import matplotlib.pyplot as plt\n",
    "import seaborn as sns\n",
    "from sklearn.linear_model import LinearRegression\n",
    "from sklearn.feature_selection import SequentialFeatureSelector\n",
    "from sklearn.linear_model import Lasso\n",
    "from sklearn.linear_model import ElasticNet\n",
    "from sklearn.linear_model import Ridge\n",
    "from sklearn.kernel_ridge import KernelRidge\n",
    "from sklearn import metrics\n",
    "from sklearn.linear_model import RidgeCV\n",
    "from sklearn.ensemble import RandomForestRegressor\n",
    "from xgboost import XGBRegressor\n",
    "from xgboost import XGBRanker\n",
    "from sklearn.linear_model import LassoCV\n",
    "from sklearn.model_selection import GridSearchCV\n",
    "sns.set()\n",
    "import warnings\n",
    "warnings.filterwarnings(\"ignore\")\n",
    "import torch.nn as nn\n",
    "from sklearn.decomposition import PCA\n",
    "from sklearn.preprocessing import StandardScaler\n",
    "\n",
    "from adapt.instance_based import KLIEP\n"
   ]
  },
  {
   "cell_type": "code",
   "execution_count": 134,
   "metadata": {},
   "outputs": [],
   "source": [
    "from sklearn.model_selection import cross_val_score\n",
    "from sklearn.metrics import make_scorer\n",
    "from sklearn.model_selection import train_test_split\n",
    "from sklearn.model_selection import KFold\n",
    "from sklearn.cross_decomposition import CCA\n",
    "from sklearn.cross_decomposition import PLSCanonical\n",
    "from sklearn.cross_decomposition import PLSSVD\n",
    "from operator import itemgetter\n",
    "def softmax(x):\n",
    "    return(np.exp(x)/np.exp(x).sum())\n",
    "\n",
    "def my_custom_loss_func_exp(y_true, y_pred):\n",
    "    return spearmanr(np.exp(y_true), np.exp(y_pred)).correlation  \n",
    "\n",
    "def my_custom_loss_func(y_true, y_pred):\n",
    "    #y_pred = np.exp(np.array(y_pred))\n",
    "    return spearmanr(y_true, y_pred).correlation\n",
    "\n",
    "def loss(y_true,y_pred):\n",
    "    return np.corrcoef(y_true,y_pred)[0][1]\n",
    "\n",
    "def select_columns(X, y, test_size = 0.33, size_features= 30, state = 100):\n",
    "    dic = dict({})\n",
    "    for i in range(100,100+state):\n",
    "        X_train, X_test, y_train, y_test = train_test_split(X, y, test_size=test_size, random_state=i)\n",
    "        X_train = np.array(X_train)\n",
    "        X_test = np.array(X_test)\n",
    "        all_corr = []\n",
    "        for i in range(X_train.shape[1]):\n",
    "            cor = my_custom_loss_func(y_train,X_train[:,i])\n",
    "            all_corr.append(cor)\n",
    "            \n",
    "        all_corr = np.array(all_corr)\n",
    "        cols = np.argsort(all_corr)[::-1]\n",
    "        cols_keep = cols[:size_features]\n",
    "        for i in cols_keep:\n",
    "            if(i in dic):\n",
    "                dic[i]+=1\n",
    "            else:\n",
    "                dic[i] = 1\n",
    "   \n",
    "    s = sorted(dic.items(), key=itemgetter(1),reverse=1)\n",
    "    print(s)\n",
    "    cols_keep = []\n",
    "    for i in range(size_features):\n",
    "        cols_keep.append(s[i][0])\n",
    "    return np.array(cols_keep)\n",
    "\n",
    "def evaluate_model_mean(X, y, model, stratify ,  test_size=0.33, loss = my_custom_loss_func, state = 100, size_features = 30):\n",
    "    \n",
    "    score = []\n",
    "    for i in range(state):\n",
    "        X_train, X_test, y_train, y_test = train_test_split(X, y, test_size=test_size,random_state=i, stratify=stratify)\n",
    "        \n",
    "        '''\n",
    "        mask = (X_test['COUNTRY']==-1)\n",
    "        X_test_FR = X_test[mask].copy()\n",
    "        y_train = np.array(y_train)\n",
    "        y_test_FR = np.array(y_test)[np.array(mask)].copy()\n",
    "        \n",
    "        \n",
    "        mask = (X_test['COUNTRY']==1)\n",
    "        X_test_DE = X_test[mask].copy()\n",
    "        y_test_DE = np.array(y_test)[np.array(mask)].copy()\n",
    "        '''\n",
    "    \n",
    "        X_train = np.array(X_train)\n",
    "        X_test = np.array(X_test)\n",
    "        '''\n",
    "        X_test_FR = np.array(X_test_FR)\n",
    "        X_test_DE = np.array(X_test_DE)\n",
    "        '''\n",
    "        #model_pca = PCA(n_components=X_train.shape[1])\n",
    "        #model_pca.fit(X_train)\n",
    "        #X_train = model_pca.transform(X_train)\n",
    "        #X_test = model_pca.transform(X_test)\n",
    "                \n",
    "        \n",
    "        model.fit(X_train,y_train)\n",
    "        train_score = loss(y_train, model.predict(X_train))\n",
    "        y_predict = model.predict(X_test)\n",
    "        test_score = loss(y_test , y_predict.reshape(-1))\n",
    "        '''\n",
    "        y_predict_FR = model.predict(X_test_FR)\n",
    "        test_score_FR = loss(np.array(y_test_FR) , y_predict_FR.reshape(-1))\n",
    "        \n",
    "        y_predict_DE = model.predict(X_test_DE)\n",
    "        test_score_DE = loss(np.array(y_test_DE) , y_predict_DE.reshape(-1))\n",
    "        '''\n",
    "        score.append([test_score])#,test_score_FR,test_score_DE])\n",
    "        \n",
    "    return np.mean(np.array(score),axis=0)\n",
    "\n",
    "\n",
    "def evaluate_model_mean_lgb(X, y, model, stratify ,  test_size=0.33, loss = my_custom_loss_func, state = 100, size_features = 30):\n",
    "\n",
    "    score = []\n",
    "    for i in range(state):\n",
    "        import lightgbm as lgbm\n",
    "\n",
    "        X_train_m, X_test_m, y_train_m, y_test_m = train_test_split(X, y, test_size=0.3,random_state=i, stratify=stratify)\n",
    "        X_train_m, X_val_m, y_train_m, y_val_m = train_test_split(X_train_m, y_train_m, test_size=0.2,random_state=i)\n",
    "\n",
    "        lgbm_parameters ={\n",
    "        'n_estimators': 10000,\n",
    "        'learning_rate': 0.0941884136011224,\n",
    "        'num_leaves': 180,\n",
    "        'max_depth': 12,\n",
    "        'min_data_in_leaf': 200,\n",
    "        'lambda_l1': 0.01,\n",
    "        'lambda_l2': 1,\n",
    "        'min_gain_to_split': 8.756413243587552,\n",
    "        'bagging_fraction': 0.6000000000000001,\n",
    "        'bagging_freq': 1,\n",
    "        'feature_fraction': 0.5}\n",
    "\n",
    "        model = lgbm.LGBMRegressor(objective=\"regression\", **lgbm_parameters)\n",
    "        model.fit(\n",
    "            X_train_m,\n",
    "            y_train_m,\n",
    "            eval_set=[(X_val_m,y_val_m)],\n",
    "            eval_metric=\"l1\",\n",
    "            early_stopping_rounds=100\n",
    "        )\n",
    "\n",
    "        X_train_m = np.array(X_train_m)\n",
    "        X_test_m = np.array(X_test_m)\n",
    "        \n",
    "        train_score = loss(y_train_m, model.predict(X_train_m))\n",
    "        y_predict = model.predict(X_test_m)\n",
    "        test_score = loss(y_test_m , y_predict.reshape(-1))\n",
    "        \n",
    "        score.append([test_score])\n",
    "        \n",
    "    return np.mean(np.array(score),axis=0)\n",
    "\n",
    "\n",
    "def evaluate_model_mean_all(X, y, model, stratify ,  test_size=0.33, loss = my_custom_loss_func, state = 100, size_features = 30):\n",
    "    \n",
    "    score = []\n",
    "    for i in range(state):\n",
    "        X_train, X_test, y_train, y_test = train_test_split(X, y, test_size=test_size,random_state=i, stratify=stratify)\n",
    "        \n",
    "        \n",
    "        mask = (X_test['COUNTRY']==-1)\n",
    "        X_test_FR = X_test[mask].copy()\n",
    "        y_train = np.array(y_train)\n",
    "        y_test_FR = np.array(y_test)[np.array(mask)].copy()\n",
    "        \n",
    "        \n",
    "        mask = (X_test['COUNTRY']==1)\n",
    "        X_test_DE = X_test[mask].copy()\n",
    "        y_test_DE = np.array(y_test)[np.array(mask)].copy()\n",
    "      \n",
    "    \n",
    "        X_train = np.array(X_train)\n",
    "        X_test = np.array(X_test)\n",
    "      \n",
    "        X_test_FR = np.array(X_test_FR)\n",
    "        X_test_DE = np.array(X_test_DE)\n",
    "      \n",
    "        #model_pca = PCA(n_components=X_train.shape[1])\n",
    "        #model_pca.fit(X_train)\n",
    "        #X_train = model_pca.transform(X_train)\n",
    "        #X_test = model_pca.transform(X_test)\n",
    "                \n",
    "        \n",
    "        model.fit(X_train,y_train)\n",
    "        train_score = loss(y_train, model.predict(X_train))\n",
    "        y_predict = model.predict(X_test)\n",
    "        test_score = loss(y_test , y_predict.reshape(-1))\n",
    "        \n",
    "        y_predict_FR = model.predict(X_test_FR)\n",
    "        test_score_FR = loss(np.array(y_test_FR) , y_predict_FR.reshape(-1))\n",
    "        \n",
    "        y_predict_DE = model.predict(X_test_DE)\n",
    "        test_score_DE = loss(np.array(y_test_DE) , y_predict_DE.reshape(-1))\n",
    "      \n",
    "        score.append([test_score,test_score_FR,test_score_DE])\n",
    "        \n",
    "    return np.mean(np.array(score),axis=0)"
   ]
  },
  {
   "cell_type": "code",
   "execution_count": 135,
   "metadata": {},
   "outputs": [],
   "source": [
    "path = 'data/'\n",
    "X_train = pd.read_csv( path + 'X_train.csv')\n",
    "Y_train = pd.read_csv(path + 'Y_train.csv')\n",
    "X_test = pd.read_csv(path + 'X_test.csv')"
   ]
  },
  {
   "attachments": {},
   "cell_type": "markdown",
   "metadata": {},
   "source": [
    "- ID: Unique row identifier, associated with a day (DAY_ID) and a country (COUNTRY),\n",
    "- DAY_ID: Day identifier - dates have been anonymized, but all data corresponding to a specific day is consistent,\n",
    "- COUNTRY: Country identifier - DE = Germany, FR = France, \n",
    "\n",
    "and then contains daily commodity price variations:\n",
    "\n",
    "- GAS_RET: European gas,\n",
    "- COAL_RET: European coal,\n",
    "- CARBON_RET: Carbon emissions futures,\n",
    "\n",
    "weather measures (daily, in the country x):\n",
    "\n",
    "- x_TEMP: Temperature,\n",
    "- x_RAIN: Rainfall,\n",
    "- x_WIND: Wind,\n",
    "\n",
    "energy production measures (daily, in the country x),\n",
    "\n",
    "- x_GAS: Natural gas,\n",
    "- x_COAL: Hard coal,\n",
    "- x_HYDRO: Hydro reservoir,\n",
    "- x_NUCLEAR: Daily nuclear production,\n",
    "- x_SOLAR: Photovoltaic,\n",
    "- x_WINDPOW: Wind power,\n",
    "- x_LIGNITE: Lignite,\n",
    "\n",
    "and electricity use metrics (daily, in the country x),\n",
    "\n",
    "- x_CONSUMPTON: Total electricity consumption,\n",
    "- x_RESIDUAL_LOAD: Electricity consumption after using all renewable energies,\n",
    "- x_NET_IMPORT: Imported electricity from Europe,\n",
    "- x_NET_EXPORT: Exported electricity to Europe,\n",
    "- DE_FR_EXCHANGE: Total daily electricity exchange between Germany and France,\n",
    "- FR_DE_EXCHANGE: Total daily electricity exchange between France and Germany.\n",
    "\n",
    "Output data sets are composed of two columns:\n",
    "\n",
    "- ID: Unique row identifier - corresponding to the input identifiers,\n",
    "- TARGET: Daily price variation for futures of 24H electricity baseload."
   ]
  },
  {
   "cell_type": "code",
   "execution_count": 136,
   "metadata": {},
   "outputs": [],
   "source": [
    "data = pd.merge(X_train, Y_train, on=['ID'])\n",
    "all_data = data.copy()\n",
    "all_data['train'] = 1\n",
    "all_data = pd.concat([all_data,X_test])\n",
    "all_data['TARGET'] = all_data['TARGET'].fillna(0)\n",
    "all_data['train'] = all_data['train'].fillna(0)"
   ]
  },
  {
   "cell_type": "code",
   "execution_count": 137,
   "metadata": {},
   "outputs": [],
   "source": [
    "from sklearn.impute import KNNImputer\n",
    "\n",
    "def regress_var(df, x_columns, y_column, model, out = True):\n",
    "    temp = df.dropna().copy()\n",
    "    X = np.array(temp[x_columns])\n",
    "    y = np.array(temp[y_column])\n",
    "    model.fit(X,y)\n",
    "    if(out):\n",
    "        print(\"Model score\", model.score(X,y))\n",
    "    return df.apply(lambda row: model.predict(np.array(row[x_columns]).reshape(-1,len(x_columns)))[0] if(np.isnan(row[y_column])) else row[y_column], axis=1)\n",
    "\n",
    "\n",
    "def clean_knn(all_data_clean, k =5 ):\n",
    "    imputer = KNNImputer(n_neighbors=k)\n",
    "    remove_columns = ['ID','DAY_ID','TARGET','train']\n",
    "    keep = all_data_clean.columns.difference(remove_columns)\n",
    "    all_data_clean[keep] = imputer.fit_transform(all_data_clean[keep])\n",
    "    return all_data_clean\n",
    "    \n",
    "def clean_regression(all_data_clean):\n",
    "    \n",
    "    #all_data_clean['DE_FR_EXCHANGE'] = all_data_clean['DE_FR_EXCHANGE'].fillna(0)\n",
    "    #all_data_clean['FR_DE_EXCHANGE'] = all_data_clean['FR_DE_EXCHANGE'].fillna(0)\n",
    "    \n",
    "    all_data_clean['DE_FR_EXCHANGE'] = all_data_clean['DE_FR_EXCHANGE'].fillna(all_data_clean['DE_FR_EXCHANGE'].mean(numeric_only=True))\n",
    "    all_data_clean['FR_DE_EXCHANGE'] = all_data_clean['FR_DE_EXCHANGE'].fillna(all_data_clean['FR_DE_EXCHANGE'].mean(numeric_only=True))\n",
    "    \n",
    "    x_columns = ['DE_FR_EXCHANGE']\n",
    "    y_column = 'DE_NET_EXPORT'\n",
    "    all_data_clean[y_column] = regress_var(all_data_clean, x_columns, y_column, LinearRegression(), out=True)\n",
    "    all_data_clean['DE_NET_IMPORT'] = - all_data_clean['DE_NET_EXPORT']\n",
    "    \n",
    "    x_columns = ['FR_DE_EXCHANGE']\n",
    "    y_column = 'FR_NET_EXPORT'\n",
    "    all_data_clean[y_column] = regress_var(all_data_clean, x_columns, y_column, LinearRegression(), out=True)\n",
    "    all_data_clean['FR_NET_IMPORT'] = - all_data_clean['FR_NET_EXPORT']\n",
    "    \n",
    "    all_data_clean = all_data_clean.fillna(all_data_clean.mean(numeric_only=True))\n",
    "    \n",
    "    return all_data_clean\n",
    "\n",
    "def remove_features(all_data_clean):\n",
    "    \n",
    "    all_data_clean = all_data_clean.drop(['DE_FR_EXCHANGE', 'FR_NET_IMPORT','DE_NET_IMPORT'],axis=1)\n",
    "    all_data_clean['FR_NET_EXPORT'] -= all_data_clean['FR_DE_EXCHANGE']\n",
    "    all_data_clean['DE_NET_EXPORT'] += all_data_clean['FR_DE_EXCHANGE']\n",
    "    \n",
    "    \n",
    "    all_data_clean['DE_CONSUMPTION_RENEWABLE'] = all_data_clean['DE_CONSUMPTION'] - all_data_clean['DE_RESIDUAL_LOAD']\n",
    "    all_data_clean['FR_CONSUMPTION_RENEWABLE'] = all_data_clean['FR_CONSUMPTION'] - all_data_clean['FR_RESIDUAL_LOAD']\n",
    "\n",
    "    \n",
    "    #all_data_clean = all_data_clean.rename(columns={'DE_CONSUMPTION':'DE_CONSUMPTION_RENEWABLE', 'FR_CONSUMPTION':'FR_CONSUMPTION_RENEWABLE' })\n",
    "    \n",
    "    all_data_clean['DE_FLOW_GAS'] = all_data_clean['DE_GAS']*all_data_clean['GAS_RET']\n",
    "    all_data_clean['DE_FLOW_COAL'] = all_data_clean['DE_COAL']*all_data_clean['COAL_RET']\n",
    "    all_data_clean['DE_FLOW_LIGNITE'] = all_data_clean['DE_LIGNITE']*all_data_clean['CARBON_RET']\n",
    "\n",
    "\n",
    "    all_data_clean['FR_FLOW_GAS'] = all_data_clean['FR_GAS']*all_data_clean['GAS_RET']\n",
    "    all_data_clean['FR_FLOW_COAL'] = all_data_clean['FR_COAL']*all_data_clean['COAL_RET']\n",
    "    \n",
    "    return all_data_clean\n",
    "\n",
    "def add_clusters(k, all_data_clean,cols,c):\n",
    "    from sklearn.cluster import KMeans\n",
    "    X_season = all_data_clean[cols]\n",
    "    #all_data_clean = all_data_clean.drop(cols,axis=1)\n",
    "    kmeans = KMeans(n_clusters=k,random_state = 0).fit(np.array(X_season))\n",
    "    all_data_clean[c] = kmeans.predict(np.array(X_season))\n",
    "    all_data_clean = pd.get_dummies(all_data_clean, columns=[c])\n",
    "    return all_data_clean\n",
    "\n",
    "\n",
    "def replace_outliers(all_data_clean, cols, threshold = 3):\n",
    "    for c in cols :\n",
    "        upper_limit = all_data_clean[c].mean() + threshold*all_data_clean[c].std()\n",
    "        lower_limit = all_data_clean[c].mean() - threshold*all_data_clean[c].std()    \n",
    "        all_data_clean[c] = np.where(\n",
    "            (all_data_clean[c]>upper_limit) & (all_data_clean['train']==0),\n",
    "            upper_limit,\n",
    "            np.where(\n",
    "                (all_data_clean[c]<lower_limit) & (all_data_clean['train']==0),\n",
    "                lower_limit,\n",
    "                all_data_clean[c]\n",
    "            ))\n",
    "    return all_data_clean\n",
    "\n",
    "def remove_outliers(all_data_clean, cols, threshold = 3):\n",
    "    for c in cols :\n",
    "        upper_limit = all_data_clean[c].mean() + threshold*all_data_clean[c].std()\n",
    "        lower_limit = all_data_clean[c].mean() - threshold*all_data_clean[c].std()    \n",
    "        all_data_clean[c] = np.where(\n",
    "            (all_data_clean[c]>upper_limit) & (all_data_clean['train']==1),\n",
    "            np.nan,\n",
    "            np.where(\n",
    "                (all_data_clean[c]<lower_limit) & (all_data_clean['train']==1),\n",
    "                np.nan,\n",
    "                all_data_clean[c]\n",
    "            ))\n",
    "    all_data_clean = all_data_clean.dropna()\n",
    "    return all_data_clean"
   ]
  },
  {
   "cell_type": "code",
   "execution_count": 138,
   "metadata": {},
   "outputs": [
    {
     "name": "stdout",
     "output_type": "stream",
     "text": [
      "Model score 0.49328444244850245\n",
      "Model score 0.4424460230408356\n"
     ]
    },
    {
     "data": {
      "text/plain": [
       "\"\\ncols = ['DE_RAIN','FR_RAIN','DE_WIND','FR_WIND','DE_TEMP','FR_TEMP']\\nall_data_clean = add_clusters(4,all_data_clean,cols,'season')\\n\\n\\n\\ncols = [ 'FR_HYDRO', 'FR_NUCLEAR', 'FR_SOLAR', 'FR_WINDPOW']\\nall_data_clean = add_clusters(4,all_data_clean,cols,'E_FR')\\n\\n\\ncols = [ 'DE_HYDRO', 'DE_NUCLEAR', 'DE_SOLAR', 'DE_WINDPOW', 'DE_LIGNITE']\\nall_data_clean = add_clusters(4,all_data_clean,cols,'E_DE')\\n\\n\\ncols = ['FR_GAS', 'FR_COAL','FR_RESIDUAL_LOAD']\\nall_data_clean = add_clusters(4,all_data_clean,cols,'N_FR')\\n\\ncols = ['DE_GAS', 'DE_COAL','DE_RESIDUAL_LOAD']\\nall_data_clean = add_clusters(4,all_data_clean,cols,'N_DE')\\n\\n\""
      ]
     },
     "execution_count": 138,
     "metadata": {},
     "output_type": "execute_result"
    }
   ],
   "source": [
    "all_data_clean = all_data.copy()\n",
    "all_data_clean['COUNTRY'] = all_data_clean['COUNTRY'].apply(lambda x: 0 if x =='FR' else 1)\n",
    "\n",
    "\n",
    "#all_data_clean = all_data_clean.apply(lambda x: x.fillna(x.median()),axis=0)\n",
    "\n",
    "#clean\n",
    "all_data_clean = clean_regression(all_data_clean)\n",
    "\n",
    "#remove features\n",
    "all_data_clean = remove_features(all_data_clean)\n",
    "\n",
    "\n",
    "columns = ['FR_DE_EXCHANGE', 'DE_NET_EXPORT',\n",
    "       'FR_NET_EXPORT', 'DE_GAS', 'FR_GAS', 'DE_COAL', 'FR_COAL', 'DE_HYDRO',\n",
    "       'FR_HYDRO', 'DE_NUCLEAR', 'FR_NUCLEAR', 'DE_SOLAR', 'FR_SOLAR',\n",
    "       'DE_WINDPOW', 'FR_WINDPOW', 'DE_LIGNITE', 'DE_RESIDUAL_LOAD',\n",
    "       'FR_RESIDUAL_LOAD', 'GAS_RET', 'COAL_RET', 'CARBON_RET']\n",
    "\n",
    "#all_data_clean = remove_outliers(all_data_clean, columns)\n",
    "\n",
    "#all_data_clean = replace_outliers(all_data_clean, columns)\n",
    "\n",
    "'''\n",
    "cols = ['DE_RAIN','FR_RAIN','DE_WIND','FR_WIND','DE_TEMP','FR_TEMP']\n",
    "all_data_clean = add_clusters(4,all_data_clean,cols,'season')\n",
    "\n",
    "\n",
    "\n",
    "cols = [ 'FR_HYDRO', 'FR_NUCLEAR', 'FR_SOLAR', 'FR_WINDPOW']\n",
    "all_data_clean = add_clusters(4,all_data_clean,cols,'E_FR')\n",
    "\n",
    "\n",
    "cols = [ 'DE_HYDRO', 'DE_NUCLEAR', 'DE_SOLAR', 'DE_WINDPOW', 'DE_LIGNITE']\n",
    "all_data_clean = add_clusters(4,all_data_clean,cols,'E_DE')\n",
    "\n",
    "\n",
    "cols = ['FR_GAS', 'FR_COAL','FR_RESIDUAL_LOAD']\n",
    "all_data_clean = add_clusters(4,all_data_clean,cols,'N_FR')\n",
    "\n",
    "cols = ['DE_GAS', 'DE_COAL','DE_RESIDUAL_LOAD']\n",
    "all_data_clean = add_clusters(4,all_data_clean,cols,'N_DE')\n",
    "\n",
    "'''"
   ]
  },
  {
   "cell_type": "code",
   "execution_count": 139,
   "metadata": {},
   "outputs": [],
   "source": [
    "\n",
    "all_data_clean[\"FR_PRODUCTION\"] = all_data_clean['FR_GAS'] + all_data_clean['FR_COAL'] + all_data_clean['FR_HYDRO'] + all_data_clean['FR_NUCLEAR'] + all_data_clean['FR_SOLAR'] + all_data_clean['FR_WINDPOW']\n",
    "all_data_clean[\"DE_PRODUCTION\"] = all_data_clean['DE_GAS'] + all_data_clean['DE_COAL'] + all_data_clean['DE_HYDRO'] + all_data_clean['DE_NUCLEAR'] + all_data_clean['DE_SOLAR'] + all_data_clean['DE_WINDPOW'] + all_data_clean['DE_LIGNITE']\n",
    "\n",
    "all_data_clean['FR_NEED'] = all_data_clean[\"FR_CONSUMPTION\"] - all_data_clean['FR_PRODUCTION']  \n",
    "all_data_clean['DE_NEED'] = all_data_clean[\"DE_CONSUMPTION\"] - all_data_clean['DE_PRODUCTION'] \n",
    "\n",
    "all_data_clean['FR_NEED_RATIO'] =   all_data_clean['FR_CONSUMPTION'] / all_data_clean[\"FR_PRODUCTION\"]\n",
    "all_data_clean['DE_NEED_RATIO'] =  all_data_clean['DE_CONSUMPTION'] / all_data_clean[\"DE_PRODUCTION\"] \n",
    "\n",
    "all_data_clean['FR_NEED_RATIO_1'] =   all_data_clean['FR_NEED'] / all_data_clean[\"FR_PRODUCTION\"]\n",
    "all_data_clean['DE_NEED_RATIO_1'] =  all_data_clean['DE_NEED'] / all_data_clean[\"DE_PRODUCTION\"] \n",
    "\n",
    "\n",
    "all_data_clean['FR_NEED_RATIO_2'] =   all_data_clean[\"FR_PRODUCTION\"] / all_data_clean['FR_NEED']\n",
    "all_data_clean['DE_NEED_RATIO_2'] =   all_data_clean[\"DE_PRODUCTION\"] / all_data_clean['DE_NEED'] \n",
    "\n",
    "all_data_clean['FR_NEED_RATIO_3'] =   all_data_clean[\"FR_PRODUCTION\"] / all_data_clean['FR_CONSUMPTION']\n",
    "all_data_clean['DE_NEED_RATIO_3'] =   all_data_clean[\"DE_PRODUCTION\"] / all_data_clean['DE_CONSUMPTION'] \n",
    "\n"
   ]
  },
  {
   "cell_type": "code",
   "execution_count": 140,
   "metadata": {},
   "outputs": [
    {
     "data": {
      "text/plain": [
       "Index(['ID', 'DAY_ID', 'COUNTRY', 'DE_CONSUMPTION', 'FR_CONSUMPTION',\n",
       "       'FR_DE_EXCHANGE', 'DE_NET_EXPORT', 'FR_NET_EXPORT', 'DE_GAS', 'FR_GAS',\n",
       "       'DE_COAL', 'FR_COAL', 'DE_HYDRO', 'FR_HYDRO', 'DE_NUCLEAR',\n",
       "       'FR_NUCLEAR', 'DE_SOLAR', 'FR_SOLAR', 'DE_WINDPOW', 'FR_WINDPOW',\n",
       "       'DE_LIGNITE', 'DE_RESIDUAL_LOAD', 'FR_RESIDUAL_LOAD', 'DE_RAIN',\n",
       "       'FR_RAIN', 'DE_WIND', 'FR_WIND', 'DE_TEMP', 'FR_TEMP', 'GAS_RET',\n",
       "       'COAL_RET', 'CARBON_RET', 'TARGET', 'train', 'DE_CONSUMPTION_RENEWABLE',\n",
       "       'FR_CONSUMPTION_RENEWABLE', 'DE_FLOW_GAS', 'DE_FLOW_COAL',\n",
       "       'DE_FLOW_LIGNITE', 'FR_FLOW_GAS', 'FR_FLOW_COAL', 'FR_PRODUCTION',\n",
       "       'DE_PRODUCTION', 'FR_NEED', 'DE_NEED', 'FR_NEED_RATIO', 'DE_NEED_RATIO',\n",
       "       'FR_NEED_RATIO_1', 'DE_NEED_RATIO_1', 'FR_NEED_RATIO_2',\n",
       "       'DE_NEED_RATIO_2', 'FR_NEED_RATIO_3', 'DE_NEED_RATIO_3'],\n",
       "      dtype='object')"
      ]
     },
     "execution_count": 140,
     "metadata": {},
     "output_type": "execute_result"
    }
   ],
   "source": [
    "all_data_clean.columns"
   ]
  },
  {
   "cell_type": "code",
   "execution_count": 141,
   "metadata": {},
   "outputs": [
    {
     "data": {
      "text/plain": [
       "\"\\ncols = ['DE_CONSUMPTION', 'FR_CONSUMPTION',\\n       'FR_DE_EXCHANGE', 'DE_NET_EXPORT', 'FR_NET_EXPORT', 'DE_GAS', 'FR_GAS',\\n       'DE_COAL', 'FR_COAL', 'DE_HYDRO', 'FR_HYDRO', 'DE_NUCLEAR',\\n       'FR_NUCLEAR', 'DE_SOLAR', 'FR_SOLAR', 'DE_WINDPOW', 'FR_WINDPOW',\\n       'DE_LIGNITE', 'DE_RESIDUAL_LOAD', 'FR_RESIDUAL_LOAD', 'DE_RAIN',\\n       'FR_RAIN', 'DE_WIND', 'FR_WIND', 'DE_TEMP', 'FR_TEMP', 'GAS_RET',\\n       'COAL_RET', 'CARBON_RET', 'DE_CONSUMPTION_RENEWABLE',\\n       'FR_CONSUMPTION_RENEWABLE', 'DE_FLOW_GAS', 'DE_FLOW_COAL',\\n       'DE_FLOW_LIGNITE', 'FR_FLOW_GAS', 'FR_FLOW_COAL', 'FR_PRODUCTION', 'DE_PRODUCTION',\\n       'FR_NEED', 'DE_NEED', 'FR_NEED_RATIO', 'DE_NEED_RATIO']\\n\\n#create cum sum\\nfor c in cols:\\n    all_data_clean['cs_'+c] = np.cumsum(all_data_clean[c])\\n\""
      ]
     },
     "execution_count": 141,
     "metadata": {},
     "output_type": "execute_result"
    }
   ],
   "source": [
    "\n",
    "all_data_clean = all_data_clean.sort_values(by=['DAY_ID'])\n",
    "\n",
    "'''\n",
    "cols = ['DE_CONSUMPTION', 'FR_CONSUMPTION',\n",
    "       'FR_DE_EXCHANGE', 'DE_NET_EXPORT', 'FR_NET_EXPORT', 'DE_GAS', 'FR_GAS',\n",
    "       'DE_COAL', 'FR_COAL', 'DE_HYDRO', 'FR_HYDRO', 'DE_NUCLEAR',\n",
    "       'FR_NUCLEAR', 'DE_SOLAR', 'FR_SOLAR', 'DE_WINDPOW', 'FR_WINDPOW',\n",
    "       'DE_LIGNITE', 'DE_RESIDUAL_LOAD', 'FR_RESIDUAL_LOAD', 'DE_RAIN',\n",
    "       'FR_RAIN', 'DE_WIND', 'FR_WIND', 'DE_TEMP', 'FR_TEMP', 'GAS_RET',\n",
    "       'COAL_RET', 'CARBON_RET', 'DE_CONSUMPTION_RENEWABLE',\n",
    "       'FR_CONSUMPTION_RENEWABLE', 'DE_FLOW_GAS', 'DE_FLOW_COAL',\n",
    "       'DE_FLOW_LIGNITE', 'FR_FLOW_GAS', 'FR_FLOW_COAL', 'FR_PRODUCTION', 'DE_PRODUCTION',\n",
    "       'FR_NEED', 'DE_NEED', 'FR_NEED_RATIO', 'DE_NEED_RATIO']\n",
    "\n",
    "#create cum sum\n",
    "for c in cols:\n",
    "    all_data_clean['cs_'+c] = np.cumsum(all_data_clean[c])\n",
    "'''"
   ]
  },
  {
   "cell_type": "code",
   "execution_count": 142,
   "metadata": {},
   "outputs": [
    {
     "data": {
      "text/plain": [
       "Index(['ID', 'DAY_ID', 'COUNTRY', 'DE_CONSUMPTION', 'FR_CONSUMPTION',\n",
       "       'FR_DE_EXCHANGE', 'DE_NET_EXPORT', 'FR_NET_EXPORT', 'DE_GAS', 'FR_GAS',\n",
       "       'DE_COAL', 'FR_COAL', 'DE_HYDRO', 'FR_HYDRO', 'DE_NUCLEAR',\n",
       "       'FR_NUCLEAR', 'DE_SOLAR', 'FR_SOLAR', 'DE_WINDPOW', 'FR_WINDPOW',\n",
       "       'DE_LIGNITE', 'DE_RESIDUAL_LOAD', 'FR_RESIDUAL_LOAD', 'DE_RAIN',\n",
       "       'FR_RAIN', 'DE_WIND', 'FR_WIND', 'DE_TEMP', 'FR_TEMP', 'GAS_RET',\n",
       "       'COAL_RET', 'CARBON_RET', 'TARGET', 'train', 'DE_CONSUMPTION_RENEWABLE',\n",
       "       'FR_CONSUMPTION_RENEWABLE', 'DE_FLOW_GAS', 'DE_FLOW_COAL',\n",
       "       'DE_FLOW_LIGNITE', 'FR_FLOW_GAS', 'FR_FLOW_COAL', 'FR_PRODUCTION',\n",
       "       'DE_PRODUCTION', 'FR_NEED', 'DE_NEED', 'FR_NEED_RATIO', 'DE_NEED_RATIO',\n",
       "       'FR_NEED_RATIO_1', 'DE_NEED_RATIO_1', 'FR_NEED_RATIO_2',\n",
       "       'DE_NEED_RATIO_2', 'FR_NEED_RATIO_3', 'DE_NEED_RATIO_3'],\n",
       "      dtype='object')"
      ]
     },
     "execution_count": 142,
     "metadata": {},
     "output_type": "execute_result"
    }
   ],
   "source": [
    "all_data_clean.columns"
   ]
  },
  {
   "cell_type": "code",
   "execution_count": 143,
   "metadata": {},
   "outputs": [],
   "source": [
    "X_train = all_data_clean[all_data_clean['train'] == 1].drop(['train','TARGET','ID','DAY_ID'],axis=1)\n",
    "X_test = all_data_clean[all_data_clean['train'] == 0].drop(['train','TARGET','DAY_ID'],axis=1)\n",
    "id_train = all_data_clean[all_data_clean['train'] == 1]['ID']\n",
    "id_test = X_test['ID']\n",
    "X_test = X_test.drop('ID',axis=1)\n",
    "y_train = all_data_clean[all_data_clean['train'] == 1]['TARGET']\n",
    "\n",
    "\n",
    "X_train_FR = all_data_clean[(all_data_clean['train'] == 1) & (all_data_clean['COUNTRY'] == 0)].drop(['train','TARGET','ID','DAY_ID','COUNTRY'],axis=1)\n",
    "X_train_DE = all_data_clean[(all_data_clean['train'] == 1) & (all_data_clean['COUNTRY'] == 1)].drop(['train','TARGET','ID','DAY_ID','COUNTRY'],axis=1)\n",
    "id_train_DE = all_data_clean[(all_data_clean['train'] == 1) & (all_data_clean['COUNTRY'] == 1)]['ID']\n",
    "y_train_FR = all_data_clean[(all_data_clean['train'] == 1) & (all_data_clean['COUNTRY'] == 0)]['TARGET']\n",
    "y_train_DE = all_data_clean[(all_data_clean['train'] == 1) & (all_data_clean['COUNTRY'] == 1)]['TARGET']\n",
    "\n",
    "X_test_FR = all_data_clean[(all_data_clean['train'] == 0) & (all_data_clean['COUNTRY'] == 0)].drop(['train','TARGET','DAY_ID','COUNTRY'],axis=1)\n",
    "id_test_FR = X_test_FR['ID']\n",
    "X_test_FR = X_test_FR.drop('ID',axis=1)\n",
    "\n",
    "X_test_DE = all_data_clean[(all_data_clean['train'] == 0) & (all_data_clean['COUNTRY'] == 1)].drop(['train','TARGET','DAY_ID','COUNTRY'],axis=1)\n",
    "id_test_DE = X_test_DE['ID']\n",
    "X_test_DE = X_test_DE.drop('ID',axis=1)"
   ]
  },
  {
   "cell_type": "code",
   "execution_count": 144,
   "metadata": {},
   "outputs": [
    {
     "data": {
      "text/plain": [
       "(1494, 49)"
      ]
     },
     "execution_count": 144,
     "metadata": {},
     "output_type": "execute_result"
    }
   ],
   "source": [
    "X_train.shape"
   ]
  },
  {
   "cell_type": "code",
   "execution_count": 145,
   "metadata": {},
   "outputs": [
    {
     "data": {
      "text/plain": [
       "'\\nfrom scipy import stats\\n# ks-test\\n\\ndef ks_test(df_train, df_test):\\n    train = X_train \\n    test = X_test\\n    df_ks_test = pd.DataFrame(index=test.columns, columns=[\"p_value_ks\", \"statistics_ks\"])\\n    p_value_ks = []\\n    statistics_value_ks = []\\n\\n    for col in train.columns:\\n        data1 = df_train[col]\\n        data2 = df_test[col]\\n        \\n        #perform Kolmogorov-Smirnov test\\n        statistics_value_ks.append(stats.ks_2samp(data1, data2)[0])\\n        p_value_ks.append(stats.ks_2samp(data1, data2)[1])\\n\\n    df_ks_test[\"p_value_ks\"] = p_value_ks\\n    df_ks_test[\"statistics_ks\"] = statistics_value_ks\\n\\n    filters = [\\n    (df_ks_test.p_value_ks <= 0.05), (df_ks_test.p_value_ks > 0.05)\\n    ]\\n    values = [\"Different distribution\", \"Same distribution\"]\\n\\n    df_ks_test[\"category\"] = np.select(filters, values)\\n    df_ks_test[\"flag\"]=1\\n\\n    return df_ks_test\\n\\ndf_ks_test = ks_test(X_train, X_test)\\n\\ncols = df_ks_test[df_ks_test[\\'category\\'] == \\'Different distribution\\'].index\\ndf_ks_test[df_ks_test[\\'category\\'] == \\'Different distribution\\']\\n\\nfor c in cols:\\n    sns.kdeplot(data=X_train, x=c,label=\\'train\\')\\n    sns.kdeplot(data=X_test, x=c, label=\\'test\\')\\n    plt.legend()\\n    plt.show()\\n'"
      ]
     },
     "execution_count": 145,
     "metadata": {},
     "output_type": "execute_result"
    }
   ],
   "source": [
    "'''\n",
    "from scipy import stats\n",
    "# ks-test\n",
    "\n",
    "def ks_test(df_train, df_test):\n",
    "    train = X_train \n",
    "    test = X_test\n",
    "    df_ks_test = pd.DataFrame(index=test.columns, columns=[\"p_value_ks\", \"statistics_ks\"])\n",
    "    p_value_ks = []\n",
    "    statistics_value_ks = []\n",
    "\n",
    "    for col in train.columns:\n",
    "        data1 = df_train[col]\n",
    "        data2 = df_test[col]\n",
    "        \n",
    "        #perform Kolmogorov-Smirnov test\n",
    "        statistics_value_ks.append(stats.ks_2samp(data1, data2)[0])\n",
    "        p_value_ks.append(stats.ks_2samp(data1, data2)[1])\n",
    "\n",
    "    df_ks_test[\"p_value_ks\"] = p_value_ks\n",
    "    df_ks_test[\"statistics_ks\"] = statistics_value_ks\n",
    "\n",
    "    filters = [\n",
    "    (df_ks_test.p_value_ks <= 0.05), (df_ks_test.p_value_ks > 0.05)\n",
    "    ]\n",
    "    values = [\"Different distribution\", \"Same distribution\"]\n",
    "\n",
    "    df_ks_test[\"category\"] = np.select(filters, values)\n",
    "    df_ks_test[\"flag\"]=1\n",
    "\n",
    "    return df_ks_test\n",
    "\n",
    "df_ks_test = ks_test(X_train, X_test)\n",
    "\n",
    "cols = df_ks_test[df_ks_test['category'] == 'Different distribution'].index\n",
    "df_ks_test[df_ks_test['category'] == 'Different distribution']\n",
    "\n",
    "for c in cols:\n",
    "    sns.kdeplot(data=X_train, x=c,label='train')\n",
    "    sns.kdeplot(data=X_test, x=c, label='test')\n",
    "    plt.legend()\n",
    "    plt.show()\n",
    "'''"
   ]
  },
  {
   "cell_type": "code",
   "execution_count": 146,
   "metadata": {},
   "outputs": [
    {
     "data": {
      "text/plain": [
       "\"\\nimport resampling\\n\\ncols = X_train.columns \\nd = resampling.DistributionResampler(column=cols,sample_frac=1,n_bins = 100)\\n\\nX_train_r = d.transform_fit(X_train,X_test)\\n\\nX_train_r.shape\\n\\nplt.hist(d.weight,bins = int(np.sqrt(len(d.weight))))\\n\\ndf_ks_test = ks_test(X_train_r, X_test)\\n\\ncols = df_ks_test[df_ks_test['category'] == 'Different distribution'].index\\ndf_ks_test[df_ks_test['category'] == 'Different distribution']\\n\\nfor c in cols:\\n    sns.kdeplot(data=X_train, x=c,label='train')\\n    sns.kdeplot(data=X_train_r, x=c,label='train_m')\\n    sns.kdeplot(data=X_test, x=c, label='test')\\n    plt.legend()\\n    plt.show()\\n\""
      ]
     },
     "execution_count": 146,
     "metadata": {},
     "output_type": "execute_result"
    }
   ],
   "source": [
    "# resample :)\n",
    "'''\n",
    "import resampling\n",
    "\n",
    "cols = X_train.columns \n",
    "d = resampling.DistributionResampler(column=cols,sample_frac=1,n_bins = 100)\n",
    "\n",
    "X_train_r = d.transform_fit(X_train,X_test)\n",
    "\n",
    "X_train_r.shape\n",
    "\n",
    "plt.hist(d.weight,bins = int(np.sqrt(len(d.weight))))\n",
    "\n",
    "df_ks_test = ks_test(X_train_r, X_test)\n",
    "\n",
    "cols = df_ks_test[df_ks_test['category'] == 'Different distribution'].index\n",
    "df_ks_test[df_ks_test['category'] == 'Different distribution']\n",
    "\n",
    "for c in cols:\n",
    "    sns.kdeplot(data=X_train, x=c,label='train')\n",
    "    sns.kdeplot(data=X_train_r, x=c,label='train_m')\n",
    "    sns.kdeplot(data=X_test, x=c, label='test')\n",
    "    plt.legend()\n",
    "    plt.show()\n",
    "'''"
   ]
  },
  {
   "cell_type": "code",
   "execution_count": 147,
   "metadata": {},
   "outputs": [],
   "source": [
    "#index = y_train.index\n",
    "#y_train = pd.Series(np.argsort(np.array(y_train)))\n",
    "#y_train.index = index\n",
    "#m = np.mean(y_train)\n",
    "#s = np.std(y_train)\n",
    "#y_train -=m\n",
    "#y_train /=s\n"
   ]
  },
  {
   "cell_type": "code",
   "execution_count": 148,
   "metadata": {},
   "outputs": [],
   "source": [
    "X_train['COUNTRY'] = 2*X_train['COUNTRY'] - 1 \n",
    "X_test['COUNTRY'] = 2*X_test['COUNTRY'] - 1 \n",
    "\n",
    "#X_train['season_1'] = 2*X_train['season_1'] - 1 \n",
    "#X_test['season_1'] = 2*X_test['season_1'] - 1 \n",
    "#m  = np.mean(all_data_clean['COUNTRY'])\n",
    "#s = np.std(all_data_clean['COUNTRY'])\n",
    "\n",
    "#X_train['COUNTRY'] -=m\n",
    "#X_train['COUNTRY'] /=s\n",
    "\n",
    "#X_test['COUNTRY'] -=m\n",
    "#X_test['COUNTRY'] /=s"
   ]
  },
  {
   "cell_type": "code",
   "execution_count": 149,
   "metadata": {},
   "outputs": [],
   "source": [
    "import tensorflow as tf\n",
    "from fast_soft_sort.tf_ops import soft_rank, soft_sort\n",
    "import torch"
   ]
  },
  {
   "cell_type": "code",
   "execution_count": 150,
   "metadata": {},
   "outputs": [],
   "source": [
    "\n",
    "from scipy.optimize import minimize\n",
    "import numpy as np\n",
    "\n",
    "def mean_absolute_percentage_error(y_pred, y_true, sample_weights=None):\n",
    "    y_true = np.array(y_true)\n",
    "    y_pred = np.array(y_pred)\n",
    "    assert len(y_true) == len(y_pred)\n",
    "    \n",
    "    if np.any(y_true==0):\n",
    "        print(\"Found zeroes in y_true. MAPE undefined. Removing from set...\")\n",
    "        idx = np.where(y_true==0)\n",
    "        y_true = np.delete(y_true, idx)\n",
    "        y_pred = np.delete(y_pred, idx)\n",
    "        if type(sample_weights) != type(None):\n",
    "            sample_weights = np.array(sample_weights)\n",
    "            sample_weights = np.delete(sample_weights, idx)\n",
    "        \n",
    "    if type(sample_weights) == type(None):\n",
    "        return(np.mean(np.abs((y_true - y_pred) / y_true)) * 100)\n",
    "    else:\n",
    "        sample_weights = np.array(sample_weights)\n",
    "        assert len(sample_weights) == len(y_true)\n",
    "        return(100/sum(sample_weights)*np.dot(\n",
    "                sample_weights, (np.abs((y_true - y_pred) / y_true))\n",
    "        ))\n",
    " \n",
    "\n",
    "from sklearn.base import BaseEstimator\n",
    "\n",
    "class CustomLinearModel(BaseEstimator):\n",
    "    \"\"\"\n",
    "    Linear model: Y = XB, fit by minimizing the provided loss_function\n",
    "    with L2 regularization\n",
    "    \"\"\"\n",
    "    def __init__(self, X=None, Y=None, sample_weights=None, beta_init=None, \n",
    "                 regularization=0.01, alpha = 1, optim='BFGS'):\n",
    "        self.regularization = regularization\n",
    "        self.beta = None\n",
    "        self.sample_weights = sample_weights\n",
    "        self.beta_init = beta_init\n",
    "        self.alpha = alpha\n",
    "        self.X = X\n",
    "        self.Y = Y\n",
    "        self.optim = optim\n",
    "        self.coef_ = self.beta\n",
    "    \n",
    "       \n",
    "    def clip_beta(self):\n",
    "        self.beta[np.abs(self.beta) < 1e-4] = 0\n",
    "    \n",
    "    def cons_f(self,beta):\n",
    "        return np.var(self.X@beta)\n",
    "    def cons_J(x):\n",
    "        return [[2*x[0], 1], [2*x[0], -1]]\n",
    "    def cons_H(x, v):\n",
    "        return v[0]*np.array([[2, 0], [0, 0]]) + v[1]*np.array([[2, 0], [0, 0]])\n",
    "    \n",
    "    def mean_absolute_error(self, y_pred, y_true, sample_weights=None):\n",
    "        \n",
    "        \n",
    "        #values = tf.convert_to_tensor([y_pred], dtype=tf.float64)\n",
    "\n",
    "        #y_pred = soft_rank(values, regularization_strength=1).numpy().reshape(-1)\n",
    "        \n",
    "        #values = tf.convert_to_tensor([y_true], dtype=tf.float64)\n",
    "        \n",
    "        #y_true = soft_rank(values, regularization_strength=1).numpy().reshape(-1)\n",
    "        \n",
    "        #l = nn.HuberLoss()\n",
    "        #return l(torch.tensor([y_pred]),torch.tensor([y_true]))\n",
    "        return np.mean(np.abs(y_pred-y_true)**(self.alpha))\n",
    "    \n",
    "    def score(self,X,y_true):\n",
    "        y_pred = self.predict(X)\n",
    "        return my_custom_loss_func(y_pred,y_true)\n",
    "        \n",
    "    \n",
    "    def predict(self, X):\n",
    "        prediction = X@self.beta\n",
    "        return(prediction)\n",
    "\n",
    "    def model_error(self):\n",
    "        y_pred = self.predict(self.X)\n",
    "        error = self.mean_absolute_error(\n",
    "            y_pred, self.Y, sample_weights=self.sample_weights\n",
    "        )\n",
    "        return(error)\n",
    "    \n",
    "    def l2_regularized_loss(self, beta):\n",
    "        self.beta = beta\n",
    "        return(self.model_error() + \\\n",
    "               sum(self.regularization*np.abs(np.array(self.beta))**2))\n",
    "    \n",
    "    def l1_regularized_loss(self, beta):\n",
    "        self.beta = beta\n",
    "        return(self.model_error() + \\\n",
    "               sum(self.regularization*np.abs(np.array(self.beta))))\n",
    "    \n",
    "    \n",
    "    def fit(self, X, Y, maxiter=10000):       \n",
    "        self.X = np.array(X)\n",
    "        self.Y = np.array(Y) \n",
    "        # Initialize beta estimates (you may need to normalize\n",
    "        # your data and choose smarter initialization values\n",
    "        # depending on the shape of your loss function)\n",
    "        if type(self.beta_init)==type(None):\n",
    "            # set beta_init = 1 for every feature\n",
    "            self.beta_init = np.array([1]*self.X.shape[1])\n",
    "        else: \n",
    "            self.beta_init = np.array([1]*self.X.shape[1])\n",
    "            self.beta = None\n",
    "            \n",
    "        if self.beta!=None and all(self.beta_init == self.beta):\n",
    "            print(\"Model already fit once; continuing fit with more itrations.\")\n",
    "        \n",
    "        #bounds = [(-0.2,0.2)]*len(self.beta_init)\n",
    "        res = minimize(self.l1_regularized_loss, self.beta_init, \n",
    "                       method=self.optim, options={'maxiter': maxiter,'disp':False}) #constraints=nonlinear_constraint)\n",
    "        self.beta = res.x\n",
    "        self.beta_init = self.beta\n",
    "        self.clip_beta()\n",
    "        self.coef_ = self.beta\n",
    "\n"
   ]
  },
  {
   "cell_type": "code",
   "execution_count": 151,
   "metadata": {},
   "outputs": [],
   "source": [
    "def mean_square_error(y_pred,y_true, sample_weights=None):\n",
    "    return np.mean((y_pred-y_true)**2)\n",
    "\n",
    "def mean_absolute_error(y_pred,y_true, sample_weights=None):\n",
    "    return np.mean(np.abs(y_pred-y_true))\n",
    "\n",
    "def error_corr(y_pred,y_true, sample_weights = None):\n",
    "    return  1 - spearmanr(y_true, y_pred).correlation\n",
    "    #return np.mean((y_pred-y_true)**2) - np.mean(y_pred**2)"
   ]
  },
  {
   "cell_type": "code",
   "execution_count": 152,
   "metadata": {},
   "outputs": [],
   "source": [
    "cols = ['FR_NUCLEAR',\n",
    "'DE_HYDRO',\n",
    "'DE_GAS',\n",
    "'DE_CONSUMPTION_RENEWABLE',\n",
    "'CARBON_RET',\n",
    "'DE_RESIDUAL_LOAD',\n",
    "'DE_NET_EXPORT',\n",
    "'FR_WINDPOW',\n",
    "'FR_NEED_RATIO',\n",
    "'DE_NEED_RATIO',\n",
    "'COUNTRY'\n",
    "]\n",
    "\n",
    "\n",
    "all_cols = cols.copy()[::-1]\n",
    "all_cols = list(X_train.columns)"
   ]
  },
  {
   "cell_type": "code",
   "execution_count": 153,
   "metadata": {},
   "outputs": [
    {
     "data": {
      "text/plain": [
       "\"\\nfor c in cols:\\n    if(c == 'COUNTRY'):\\n        continue\\n    X_train['COUNTRY_'+c] = X_train['COUNTRY']*X_train[c]\\n    X_test['COUNTRY_'+c] = X_test['COUNTRY']*X_test[c]\\n    all_cols.append('COUNTRY_'+c)\\n\\nseasons = ['DAY_ID']#'season_0','season_1','season_2','season_3',\\nfor s in seasons:\\n    for c in cols:\\n        if(c in seasons):\\n            continue\\n        X_train[ s + '_'+c] = X_train[s]*X_train[c]\\n        X_test[ s + '_'+c] = X_test[s]*X_test[c]\\n        all_cols.append(s + '_'+c)\\n\""
      ]
     },
     "execution_count": 153,
     "metadata": {},
     "output_type": "execute_result"
    }
   ],
   "source": [
    "    \n",
    "'''\n",
    "for c in cols:\n",
    "    if(c == 'COUNTRY'):\n",
    "        continue\n",
    "    X_train['COUNTRY_'+c] = X_train['COUNTRY']*X_train[c]\n",
    "    X_test['COUNTRY_'+c] = X_test['COUNTRY']*X_test[c]\n",
    "    all_cols.append('COUNTRY_'+c)\n",
    "\n",
    "seasons = ['DAY_ID']#'season_0','season_1','season_2','season_3',\n",
    "for s in seasons:\n",
    "    for c in cols:\n",
    "        if(c in seasons):\n",
    "            continue\n",
    "        X_train[ s + '_'+c] = X_train[s]*X_train[c]\n",
    "        X_test[ s + '_'+c] = X_test[s]*X_test[c]\n",
    "        all_cols.append(s + '_'+c)\n",
    "'''"
   ]
  },
  {
   "cell_type": "code",
   "execution_count": null,
   "metadata": {},
   "outputs": [],
   "source": []
  },
  {
   "cell_type": "code",
   "execution_count": 154,
   "metadata": {},
   "outputs": [],
   "source": [
    "#X_train = X_train[all_cols]\n",
    "#X_test = X_test[all_cols]"
   ]
  },
  {
   "cell_type": "code",
   "execution_count": 155,
   "metadata": {},
   "outputs": [],
   "source": [
    "from sklearn.preprocessing import PolynomialFeatures\n",
    "poly = PolynomialFeatures(2,include_bias = False)\n",
    "X_train_augmented  = poly.fit_transform(X_train)\n",
    "X_test_augmented = poly.transform(X_test)\n",
    "X_train_augmented = pd.DataFrame(columns=poly.get_feature_names(X_train.columns),data = np.array(X_train_augmented))\n",
    "X_test_augmented = pd.DataFrame(columns=poly.get_feature_names(X_train.columns),data = np.array(X_test_augmented))"
   ]
  },
  {
   "cell_type": "code",
   "execution_count": 156,
   "metadata": {},
   "outputs": [],
   "source": [
    "\n",
    "cols = ['DE_NET_EXPORT',\n",
    " 'DE_HYDRO',\n",
    " 'FR_WINDPOW',\n",
    " 'DE_RESIDUAL_LOAD',\n",
    "  'DE_FLOW_COAL',\n",
    " 'DE_FLOW_LIGNITE',\n",
    " 'CARBON_RET',\n",
    " 'DE_CONSUMPTION_RENEWABLE',\n",
    " 'COUNTRY_DE_CONSUMPTION_RENEWABLE',\n",
    " 'COUNTRY_CARBON_RET',\n",
    " 'COUNTRY_DE_RESIDUAL_LOAD',\n",
    " ]\n",
    "\n",
    "cols = ['DE_NET_EXPORT',\n",
    " 'DE_RESIDUAL_LOAD',\n",
    " 'DE_CONSUMPTION_RENEWABLE',\n",
    " 'COUNTRY DE_RESIDUAL_LOAD',\n",
    " 'DE_NET_EXPORT E_DE_0',\n",
    " 'DE_NET_EXPORT E_DE_3',\n",
    " 'DE_NET_EXPORT N_DE_1',\n",
    " 'FR_NET_EXPORT DE_WIND',\n",
    " 'FR_COAL FR_CONSUMPTION_RENEWABLE',\n",
    " 'FR_HYDRO N_FR_2',\n",
    " 'DE_SOLAR DE_FLOW_LIGNITE',\n",
    " 'FR_SOLAR E_FR_0',\n",
    " 'FR_SOLAR E_FR_1',\n",
    " 'DE_LIGNITE N_DE_0',\n",
    " 'GAS_RET CARBON_RET',\n",
    " 'DE_FLOW_LIGNITE FR_FLOW_GAS',\n",
    " 'FR_FLOW_GAS FR_NEED_RATIO',\n",
    " 'FR_FLOW_COAL N_DE_1',\n",
    " 'E_FR_0 FR_NEED_RATIO',\n",
    " 'N_FR_0 FR_NEED_RATIO']\n",
    "\n",
    "#cols =  keep\n",
    "\n",
    "\n",
    "\n",
    "\n",
    "cols = ['DE_NET_EXPORT',\n",
    " 'COUNTRY DE_RESIDUAL_LOAD',\n",
    " 'DE_NET_EXPORT E_DE_1',\n",
    " 'FR_NET_EXPORT DE_WIND',\n",
    " 'FR_GAS E_DE_0',\n",
    " 'DE_LIGNITE N_DE_3',\n",
    " 'DE_WIND GAS_RET',\n",
    " 'FR_WIND DE_FLOW_LIGNITE',\n",
    " 'DE_CONSUMPTION_RENEWABLE N_FR_3',\n",
    " 'DE_CONSUMPTION_RENEWABLE N_DE_0',\n",
    " 'FR_FLOW_GAS FR_NEED_RATIO_1',\n",
    " 'FR_FLOW_COAL N_DE_0',\n",
    " 'FR_FLOW_COAL FR_NEED_RATIO',]\n",
    "\n",
    "\n",
    "cols = ['DE_NET_EXPORT',\n",
    " 'DE_HYDRO',\n",
    " 'FR_WINDPOW',\n",
    " 'DE_RESIDUAL_LOAD',\n",
    "  'DE_FLOW_COAL',\n",
    " 'DE_FLOW_LIGNITE',\n",
    " 'CARBON_RET',\n",
    " 'DE_CONSUMPTION_RENEWABLE',\n",
    " 'COUNTRY DE_CONSUMPTION_RENEWABLE',\n",
    " 'COUNTRY CARBON_RET',\n",
    " 'COUNTRY DE_RESIDUAL_LOAD',\n",
    " ]\n",
    "\n",
    "\n",
    "cols = ['DE_CONSUMPTION_RENEWABLE',\n",
    " 'DE_NET_EXPORT',\n",
    " 'COUNTRY DE_RESIDUAL_LOAD',\n",
    " 'DE_CONSUMPTION_RENEWABLE FR_CONSUMPTION_RENEWABLE',\n",
    " 'COUNTRY FR_NEED_RATIO_3',\n",
    " 'COUNTRY DE_HYDRO',\n",
    " 'FR_SOLAR DE_NEED_RATIO',\n",
    " 'FR_TEMP DE_FLOW_COAL',\n",
    " 'DE_HYDRO^2',\n",
    " 'DE_CONSUMPTION_RENEWABLE FR_NEED_RATIO_1',\n",
    " 'FR_SOLAR DE_NEED_RATIO_3']\n",
    " \n",
    "\n",
    "\n",
    "\n",
    "\n",
    "X_train_COUNTRY = X_train_augmented['COUNTRY']\n",
    "X_train_augmented = X_train_augmented[cols]\n",
    "X_test_augmented = X_test_augmented[cols]\n"
   ]
  },
  {
   "cell_type": "code",
   "execution_count": 157,
   "metadata": {},
   "outputs": [],
   "source": [
    "X = pd.concat([X_train_augmented,X_test_augmented])\n",
    "#X = X.drop(['COUNTRY'],axis=1)\n",
    "\n",
    "scaler = StandardScaler()\n",
    "scaler.fit(X)\n",
    "cols = X.columns\n",
    "X_train_augmented[cols] = scaler.transform(X_train_augmented[cols])\n",
    "X_test_augmented[cols] = scaler.transform(X_test_augmented[cols])\n",
    "\n",
    "\n",
    "#X = pd.concat([X_train_augmented,X_test_augmented])\n",
    "#model = PCA(n_components=X.shape[1])\n",
    "#model.fit(X)\n",
    "#X_train_augmented = model.transform(X_train_augmented)\n",
    "#X_test_augmented = model.transform(X_test_augmented)"
   ]
  },
  {
   "cell_type": "code",
   "execution_count": 158,
   "metadata": {},
   "outputs": [
    {
     "data": {
      "text/plain": [
       "Index(['DE_CONSUMPTION_RENEWABLE', 'DE_NET_EXPORT', 'COUNTRY DE_RESIDUAL_LOAD',\n",
       "       'DE_CONSUMPTION_RENEWABLE FR_CONSUMPTION_RENEWABLE',\n",
       "       'COUNTRY FR_NEED_RATIO_3', 'COUNTRY DE_HYDRO', 'FR_SOLAR DE_NEED_RATIO',\n",
       "       'FR_TEMP DE_FLOW_COAL', 'DE_HYDRO^2',\n",
       "       'DE_CONSUMPTION_RENEWABLE FR_NEED_RATIO_1', 'FR_SOLAR DE_NEED_RATIO_3'],\n",
       "      dtype='object')"
      ]
     },
     "execution_count": 158,
     "metadata": {},
     "output_type": "execute_result"
    }
   ],
   "source": [
    "X_test_augmented.columns"
   ]
  },
  {
   "cell_type": "code",
   "execution_count": 159,
   "metadata": {},
   "outputs": [
    {
     "name": "stdout",
     "output_type": "stream",
     "text": [
      "Fit weights...\n",
      "Fit Estimator...\n",
      "0.25242553895966746\n"
     ]
    },
    {
     "data": {
      "text/plain": [
       "<matplotlib.collections.PathCollection at 0x2d5f417e110>"
      ]
     },
     "execution_count": 159,
     "metadata": {},
     "output_type": "execute_result"
    },
    {
     "data": {
      "image/png": "[encoded data removed]",
      "text/plain": [
       "<Figure size 640x480 with 1 Axes>"
      ]
     },
     "metadata": {},
     "output_type": "display_data"
    }
   ],
   "source": [
    "\n",
    "#cols_keep = select_columns(X_train_augmented,y_train,size_features=50)\n",
    "#0.0455\n",
    "X_train_augmented_t = np.array(X_train_augmented)\n",
    "X_test_augmented_t = np.array(X_test_augmented)\n",
    "\n",
    "\n",
    "l1_lasso_model = CustomLinearModel(\n",
    "    X=np.array(X_train_augmented_t), Y=np.array(y_train), regularization=0.0 , alpha= 1.2, optim = 'BFGS'\n",
    ")\n",
    "\n",
    "#l1_lasso_model = Lasso(alpha=0.01)\n",
    "l1_lasso_model = KLIEP(l1_lasso_model, Xt=np.array(X_test_augmented), kernel=\"rbf\", gamma=[0.01], random_state=0)\n",
    "\n",
    "l1_lasso_model.fit(np.array(X_train_augmented_t), np.array(y_train))\n",
    "\n",
    "y_pred = l1_lasso_model.predict(X_train_augmented_t)\n",
    "print(my_custom_loss_func(y_pred,y_train))\n",
    "#print(list(zip(X_train_augmented.columns,l1_lasso_model.coef_)))\n",
    "\n",
    "plt.scatter(y_pred,y_train)\n"
   ]
  },
  {
   "cell_type": "code",
   "execution_count": 160,
   "metadata": {},
   "outputs": [],
   "source": [
    "#X_train_m, X_val_m, y_train_m, y_val_m = train_test_split(X_train_augmented, y_train, test_size=0.05,random_state=0,stratify=X_train_COUNTRY)\n",
    "#X_train_m, X_val_m, y_train_m, y_val_m = train_test_split(X_train_m, y_train_m, test_size=0.2,random_state=1, stratify=y_train_m>0)"
   ]
  },
  {
   "cell_type": "code",
   "execution_count": 161,
   "metadata": {},
   "outputs": [],
   "source": [
    "import lightgbm as lgbm\n",
    "from optuna.integration import LightGBMPruningCallback\n",
    "import optuna  # pip install optuna\n",
    "from sklearn.metrics import log_loss\n",
    "from sklearn.model_selection import StratifiedKFold\n",
    "from sklearn.metrics import mean_absolute_error\n",
    "def objective(trial, X, y):\n",
    "    param_grid = {\n",
    "        # \"device_type\": trial.suggest_categorical(\"device_type\", ['gpu']),\n",
    "        #'boosting_type': 'dart',\n",
    "        \"n_estimators\": trial.suggest_categorical(\"n_estimators\", [50]),\n",
    "        \"learning_rate\": trial.suggest_float(\"learning_rate\", 0.001, 0.03),\n",
    "        \"num_leaves\": trial.suggest_int(\"num_leaves\", 20, 2000, step=10),\n",
    "        \"max_depth\": trial.suggest_int(\"max_depth\", 3, 6),\n",
    "        \"min_data_in_leaf\": trial.suggest_int(\"min_data_in_leaf\", 20, 1000, step=10),\n",
    "        \"lambda_l1\": trial.suggest_int(\"lambda_l1\", 0, 10, step=1),\n",
    "        \"lambda_l2\": trial.suggest_int(\"lambda_l2\", 0, 10, step=1),\n",
    "        \"min_gain_to_split\": trial.suggest_float(\"min_gain_to_split\", 0, 2),\n",
    "        \"bagging_fraction\": trial.suggest_float(\n",
    "            \"bagging_fraction\", 0.2, 0.95, step=0.1\n",
    "        ),\n",
    "        \"bagging_freq\": trial.suggest_categorical(\"bagging_freq\", [1]),\n",
    "        \"feature_fraction\": trial.suggest_float(\n",
    "            \"feature_fraction\", 0.2, 0.95, step=0.1\n",
    "        ),\n",
    "    }\n",
    "\n",
    "    cv = KFold(n_splits=5, shuffle=True, random_state=1121218)\n",
    "\n",
    "    cv_scores = np.zeros(5)\n",
    "    for idx, (train_idx, test_idx) in enumerate(cv.split(X, y)):\n",
    "        \n",
    "        X_train, X_test_m = X[train_idx,:], X[test_idx,:]\n",
    "        y_train, y_test_m = y[train_idx], y[test_idx]\n",
    "      \n",
    "        \n",
    "        model = lgbm.LGBMRegressor(objective=\"regression\", **param_grid)\n",
    "        \n",
    "        model.fit(\n",
    "            X_train,\n",
    "            y_train,\n",
    "            eval_set=[(np.array(X_val_m), np.array(y_val_m))],\n",
    "            eval_metric='mae',\n",
    "            early_stopping_rounds=10,\n",
    "            callbacks=[\n",
    "                LightGBMPruningCallback(trial, \"l2\")\n",
    "            ],  # Add a pruning callback\n",
    "        )\n",
    "        preds = model.predict(X_test_m)\n",
    "        cv_scores[idx] = 1 - my_custom_loss_func(np.array(y_test_m), preds)\n",
    "       \n",
    "\n",
    "    return np.mean(cv_scores)"
   ]
  },
  {
   "cell_type": "code",
   "execution_count": 162,
   "metadata": {},
   "outputs": [
    {
     "data": {
      "text/plain": [
       "'\\nstudy = optuna.create_study(direction=\"minimize\", study_name=\"LGBM Regressor\")\\nfunc = lambda trial: objective(trial, np.array(X_train_m), np.array(y_train_m))\\nstudy.optimize(func, n_trials=20)\\n\\nprint(f\"\\tBest value (rmse): {study.best_value:.5f}\")\\nprint(f\"\\tBest params:\")\\n\\nfor key, value in study.best_params.items():\\n    print(f\"\\t\\t{key}: {value}\")\\n'"
      ]
     },
     "execution_count": 162,
     "metadata": {},
     "output_type": "execute_result"
    }
   ],
   "source": [
    "'''\n",
    "study = optuna.create_study(direction=\"minimize\", study_name=\"LGBM Regressor\")\n",
    "func = lambda trial: objective(trial, np.array(X_train_m), np.array(y_train_m))\n",
    "study.optimize(func, n_trials=20)\n",
    "\n",
    "print(f\"\\tBest value (rmse): {study.best_value:.5f}\")\n",
    "print(f\"\\tBest params:\")\n",
    "\n",
    "for key, value in study.best_params.items():\n",
    "    print(f\"\\t\\t{key}: {value}\")\n",
    "'''"
   ]
  },
  {
   "cell_type": "code",
   "execution_count": 163,
   "metadata": {},
   "outputs": [],
   "source": [
    "#study.best_params"
   ]
  },
  {
   "cell_type": "code",
   "execution_count": 164,
   "metadata": {},
   "outputs": [
    {
     "data": {
      "text/plain": [
       "'\\n\\nlgbm_parameters ={\\n \\'n_estimators\\': 100,\\n \\'learning_rate\\': 0.02683122408264061,\\n \\'num_leaves\\': 1400,\\n \\'max_depth\\': 3,\\n \\'min_data_in_leaf\\': 220,\\n \\'lambda_l1\\': 10,\\n \\'lambda_l2\\': 10,\\n \\'min_gain_to_split\\': 0.5916133975272007,\\n \\'bagging_fraction\\': 0.8,\\n \\'bagging_freq\\': 1,\\n \\'feature_fraction\\': 0.4}\\n\\nmodel = lgbm.LGBMRegressor(objective=\"regression\", **lgbm_parameters)\\nmodel.fit(\\n    X_train_m,\\n    y_train_m,\\n    eval_set=[(X_val_m,y_val_m)],\\n    eval_metric=\\'mae\\',\\n    early_stopping_rounds=10\\n)\\n\\n#model = CustomLinearModel()#XGBRegressor(**{\\'colsample_bytree\\': 0.6655392754230048, \\'gamma\\': 4.198875359789924, \\'max_depth\\': 17, \\'min_child_weight\\': 1.0, \\'reg_alpha\\': 57.0, \\'reg_lambda\\': 0.16332305739873})\\n#model.fit(X_train_merge,y_train_merge)\\n'"
      ]
     },
     "execution_count": 164,
     "metadata": {},
     "output_type": "execute_result"
    }
   ],
   "source": [
    "'''\n",
    "\n",
    "lgbm_parameters ={\n",
    " 'n_estimators': 100,\n",
    " 'learning_rate': 0.02683122408264061,\n",
    " 'num_leaves': 1400,\n",
    " 'max_depth': 3,\n",
    " 'min_data_in_leaf': 220,\n",
    " 'lambda_l1': 10,\n",
    " 'lambda_l2': 10,\n",
    " 'min_gain_to_split': 0.5916133975272007,\n",
    " 'bagging_fraction': 0.8,\n",
    " 'bagging_freq': 1,\n",
    " 'feature_fraction': 0.4}\n",
    "\n",
    "model = lgbm.LGBMRegressor(objective=\"regression\", **lgbm_parameters)\n",
    "model.fit(\n",
    "    X_train_m,\n",
    "    y_train_m,\n",
    "    eval_set=[(X_val_m,y_val_m)],\n",
    "    eval_metric='mae',\n",
    "    early_stopping_rounds=10\n",
    ")\n",
    "\n",
    "#model = CustomLinearModel()#XGBRegressor(**{'colsample_bytree': 0.6655392754230048, 'gamma': 4.198875359789924, 'max_depth': 17, 'min_child_weight': 1.0, 'reg_alpha': 57.0, 'reg_lambda': 0.16332305739873})\n",
    "#model.fit(X_train_merge,y_train_merge)\n",
    "'''"
   ]
  },
  {
   "cell_type": "code",
   "execution_count": 165,
   "metadata": {},
   "outputs": [],
   "source": [
    "#l = dict(zip(X_train_m.columns,model.feature_importances_))\n",
    "#plt.barh(list(l.keys()),list(l.values()))"
   ]
  },
  {
   "cell_type": "code",
   "execution_count": 166,
   "metadata": {},
   "outputs": [
    {
     "data": {
      "text/plain": [
       "'\\nl = dict(sorted(l.items(), key=lambda x: -x[1]))\\nlist({k: v for k, v in l.items() if v>0})\\n'"
      ]
     },
     "execution_count": 166,
     "metadata": {},
     "output_type": "execute_result"
    }
   ],
   "source": [
    "'''\n",
    "l = dict(sorted(l.items(), key=lambda x: -x[1]))\n",
    "list({k: v for k, v in l.items() if v>0})\n",
    "'''"
   ]
  },
  {
   "cell_type": "code",
   "execution_count": 167,
   "metadata": {},
   "outputs": [
    {
     "data": {
      "text/plain": [
       "\"\\ny_pred = model.predict(X_train_m)\\nprint('train', my_custom_loss_func((y_pred),np.array(y_train_m)))\\n\\ny_pred = model.predict(X_val_m)\\nprint('val', my_custom_loss_func((y_pred),np.array(y_val_m)))\\n\""
      ]
     },
     "execution_count": 167,
     "metadata": {},
     "output_type": "execute_result"
    }
   ],
   "source": [
    "'''\n",
    "y_pred = model.predict(X_train_m)\n",
    "print('train', my_custom_loss_func((y_pred),np.array(y_train_m)))\n",
    "\n",
    "y_pred = model.predict(X_val_m)\n",
    "print('val', my_custom_loss_func((y_pred),np.array(y_val_m)))\n",
    "'''"
   ]
  },
  {
   "cell_type": "code",
   "execution_count": 168,
   "metadata": {},
   "outputs": [
    {
     "ename": "AttributeError",
     "evalue": "'KLIEP' object has no attribute 'coef_'",
     "output_type": "error",
     "traceback": [
      "\u001b[1;31m---------------------------------------------------------------------------\u001b[0m",
      "\u001b[1;31mAttributeError\u001b[0m                            Traceback (most recent call last)",
      "Cell \u001b[1;32mIn [168], line 1\u001b[0m\n\u001b[1;32m----> 1\u001b[0m l1_lasso_model\u001b[39m.\u001b[39mcoef_\n",
      "\u001b[1;31mAttributeError\u001b[0m: 'KLIEP' object has no attribute 'coef_'"
     ]
    }
   ],
   "source": [
    "l1_lasso_model.coef_"
   ]
  },
  {
   "cell_type": "code",
   "execution_count": null,
   "metadata": {},
   "outputs": [
    {
     "data": {
      "text/plain": [
       "[('DE_CONSUMPTION_RENEWABLE', -0.07354491225610879),\n",
       " ('DE_NET_EXPORT', -0.044651694123544236),\n",
       " ('COUNTRY DE_RESIDUAL_LOAD', 0.08791405237927112),\n",
       " ('DE_CONSUMPTION_RENEWABLE FR_CONSUMPTION_RENEWABLE', -0.022910515334029106),\n",
       " ('COUNTRY FR_NEED_RATIO_3', 0.00218242165978183),\n",
       " ('COUNTRY DE_HYDRO', 0.008660587822391538),\n",
       " ('FR_SOLAR DE_NEED_RATIO', 0.0015045120514741042),\n",
       " ('FR_TEMP DE_FLOW_COAL', -0.00826370698738817),\n",
       " ('DE_HYDRO^2', 0.005408194804553422),\n",
       " ('DE_CONSUMPTION_RENEWABLE FR_NEED_RATIO_1', -0.02499413626038973),\n",
       " ('FR_SOLAR DE_NEED_RATIO_3', 0.001247615401813319)]"
      ]
     },
     "execution_count": 128,
     "metadata": {},
     "output_type": "execute_result"
    }
   ],
   "source": [
    "l = list(zip(X_train_augmented,l1_lasso_model.coef_))\n",
    "l"
   ]
  },
  {
   "cell_type": "code",
   "execution_count": null,
   "metadata": {},
   "outputs": [
    {
     "data": {
      "text/plain": [
       "11"
      ]
     },
     "execution_count": 129,
     "metadata": {},
     "output_type": "execute_result"
    }
   ],
   "source": [
    "np.sum(l1_lasso_model.coef_!= 0) "
   ]
  },
  {
   "cell_type": "code",
   "execution_count": null,
   "metadata": {},
   "outputs": [
    {
     "data": {
      "text/plain": [
       "['DE_CONSUMPTION_RENEWABLE',\n",
       " 'DE_NET_EXPORT',\n",
       " 'COUNTRY DE_RESIDUAL_LOAD',\n",
       " 'DE_CONSUMPTION_RENEWABLE FR_CONSUMPTION_RENEWABLE',\n",
       " 'COUNTRY FR_NEED_RATIO_3',\n",
       " 'COUNTRY DE_HYDRO',\n",
       " 'FR_SOLAR DE_NEED_RATIO',\n",
       " 'FR_TEMP DE_FLOW_COAL',\n",
       " 'DE_HYDRO^2',\n",
       " 'DE_CONSUMPTION_RENEWABLE FR_NEED_RATIO_1',\n",
       " 'FR_SOLAR DE_NEED_RATIO_3']"
      ]
     },
     "execution_count": 130,
     "metadata": {},
     "output_type": "execute_result"
    }
   ],
   "source": [
    "\n",
    "l = list(zip(X_train_augmented.columns,l1_lasso_model.coef_))\n",
    "keep = []\n",
    "for i in l:\n",
    "    if(i[1]!=0):\n",
    "        keep.append(i[0])\n",
    "keep\n"
   ]
  },
  {
   "cell_type": "code",
   "execution_count": null,
   "metadata": {},
   "outputs": [
    {
     "name": "stdout",
     "output_type": "stream",
     "text": [
      "1.2 0.0 [0.23806946]\n"
     ]
    },
    {
     "ename": "KeyboardInterrupt",
     "evalue": "",
     "output_type": "error",
     "traceback": [
      "\u001b[1;31m---------------------------------------------------------------------------\u001b[0m",
      "\u001b[1;31mKeyboardInterrupt\u001b[0m                         Traceback (most recent call last)",
      "Cell \u001b[1;32mIn [132], line 18\u001b[0m\n\u001b[0;32m     16\u001b[0m \u001b[39m#model.fit(X_train_augmented_t, y_train)\u001b[39;00m\n\u001b[0;32m     17\u001b[0m params\u001b[39m.\u001b[39mappend({\u001b[39m'\u001b[39m\u001b[39malpha\u001b[39m\u001b[39m'\u001b[39m:\u001b[39m1.2\u001b[39m,\u001b[39m'\u001b[39m\u001b[39mregularization\u001b[39m\u001b[39m'\u001b[39m:regularization})\n\u001b[1;32m---> 18\u001b[0m s \u001b[39m=\u001b[39m evaluate_model_mean(X_train_augmented,y_train,model, stratify \u001b[39m=\u001b[39m X_train_COUNTRY,  state \u001b[39m=\u001b[39m \u001b[39m20\u001b[39m, test_size\u001b[39m=\u001b[39m\u001b[39m0.3\u001b[39m)\n\u001b[0;32m     19\u001b[0m \u001b[39mprint\u001b[39m(alpha, regularization, s)\u001b[39m#, np.sum(model.coef_!=0))\u001b[39;00m\n\u001b[0;32m     20\u001b[0m score\u001b[39m.\u001b[39mappend(s)\n",
      "Cell \u001b[1;32mIn [93], line 79\u001b[0m, in \u001b[0;36mevaluate_model_mean\u001b[1;34m(X, y, model, stratify, test_size, loss, state, size_features)\u001b[0m\n\u001b[0;32m     69\u001b[0m \u001b[39m'''\u001b[39;00m\n\u001b[0;32m     70\u001b[0m \u001b[39mX_test_FR = np.array(X_test_FR)\u001b[39;00m\n\u001b[0;32m     71\u001b[0m \u001b[39mX_test_DE = np.array(X_test_DE)\u001b[39;00m\n\u001b[0;32m     72\u001b[0m \u001b[39m'''\u001b[39;00m\n\u001b[0;32m     73\u001b[0m \u001b[39m#model_pca = PCA(n_components=X_train.shape[1])\u001b[39;00m\n\u001b[0;32m     74\u001b[0m \u001b[39m#model_pca.fit(X_train)\u001b[39;00m\n\u001b[0;32m     75\u001b[0m \u001b[39m#X_train = model_pca.transform(X_train)\u001b[39;00m\n\u001b[0;32m     76\u001b[0m \u001b[39m#X_test = model_pca.transform(X_test)\u001b[39;00m\n\u001b[1;32m---> 79\u001b[0m model\u001b[39m.\u001b[39;49mfit(X_train,y_train)\n\u001b[0;32m     80\u001b[0m train_score \u001b[39m=\u001b[39m loss(y_train, model\u001b[39m.\u001b[39mpredict(X_train))\n\u001b[0;32m     81\u001b[0m y_predict \u001b[39m=\u001b[39m model\u001b[39m.\u001b[39mpredict(X_test)\n",
      "File \u001b[1;32m~\\AppData\\Local\\Packages\\PythonSoftwareFoundation.Python.3.10_qbz5n2kfra8p0\\LocalCache\\local-packages\\Python310\\site-packages\\adapt\\base.py:479\u001b[0m, in \u001b[0;36mBaseAdaptEstimator.fit\u001b[1;34m(self, X, y, Xt, yt, domains, **fit_params)\u001b[0m\n\u001b[0;32m    477\u001b[0m \u001b[39mif\u001b[39;00m \u001b[39mself\u001b[39m\u001b[39m.\u001b[39mverbose:\n\u001b[0;32m    478\u001b[0m     \u001b[39mprint\u001b[39m(\u001b[39m\"\u001b[39m\u001b[39mFit weights...\u001b[39m\u001b[39m\"\u001b[39m)\n\u001b[1;32m--> 479\u001b[0m out \u001b[39m=\u001b[39m \u001b[39mself\u001b[39;49m\u001b[39m.\u001b[39;49mfit_weights(Xs\u001b[39m=\u001b[39;49mX, Xt\u001b[39m=\u001b[39;49mXt,\n\u001b[0;32m    480\u001b[0m                        ys\u001b[39m=\u001b[39;49my, yt\u001b[39m=\u001b[39;49myt,\n\u001b[0;32m    481\u001b[0m                        domains\u001b[39m=\u001b[39;49mdomains)\n\u001b[0;32m    482\u001b[0m \u001b[39mif\u001b[39;00m \u001b[39misinstance\u001b[39m(out, \u001b[39mtuple\u001b[39m):\n\u001b[0;32m    483\u001b[0m     \u001b[39mself\u001b[39m\u001b[39m.\u001b[39mweights_ \u001b[39m=\u001b[39m out[\u001b[39m0\u001b[39m]\n",
      "File \u001b[1;32m~\\AppData\\Local\\Packages\\PythonSoftwareFoundation.Python.3.10_qbz5n2kfra8p0\\LocalCache\\local-packages\\Python310\\site-packages\\adapt\\instance_based\\_kliep.py:308\u001b[0m, in \u001b[0;36mKLIEP.fit_weights\u001b[1;34m(self, Xs, Xt, **kwargs)\u001b[0m\n\u001b[0;32m    305\u001b[0m \u001b[39melse\u001b[39;00m:\n\u001b[0;32m    306\u001b[0m     \u001b[39mself\u001b[39m\u001b[39m.\u001b[39mbest_params_ \u001b[39m=\u001b[39m params_comb[\u001b[39m0\u001b[39m]\n\u001b[1;32m--> 308\u001b[0m \u001b[39mself\u001b[39m\u001b[39m.\u001b[39malphas_, \u001b[39mself\u001b[39m\u001b[39m.\u001b[39mcenters_ \u001b[39m=\u001b[39m \u001b[39mself\u001b[39;49m\u001b[39m.\u001b[39;49m_fit(Xs, Xt, \u001b[39mself\u001b[39;49m\u001b[39m.\u001b[39;49mbest_params_)\n\u001b[0;32m    310\u001b[0m \u001b[39mself\u001b[39m\u001b[39m.\u001b[39mweights_ \u001b[39m=\u001b[39m np\u001b[39m.\u001b[39mdot(\n\u001b[0;32m    311\u001b[0m     pairwise\u001b[39m.\u001b[39mpairwise_kernels(Xs, \u001b[39mself\u001b[39m\u001b[39m.\u001b[39mcenters_,\n\u001b[0;32m    312\u001b[0m                              metric\u001b[39m=\u001b[39m\u001b[39mself\u001b[39m\u001b[39m.\u001b[39mkernel,\n\u001b[0;32m    313\u001b[0m                              \u001b[39m*\u001b[39m\u001b[39m*\u001b[39m\u001b[39mself\u001b[39m\u001b[39m.\u001b[39mbest_params_),\n\u001b[0;32m    314\u001b[0m     \u001b[39mself\u001b[39m\u001b[39m.\u001b[39malphas_\n\u001b[0;32m    315\u001b[0m     )\u001b[39m.\u001b[39mravel()\n\u001b[0;32m    316\u001b[0m \u001b[39mreturn\u001b[39;00m \u001b[39mself\u001b[39m\u001b[39m.\u001b[39mweights_\n",
      "File \u001b[1;32m~\\AppData\\Local\\Packages\\PythonSoftwareFoundation.Python.3.10_qbz5n2kfra8p0\\LocalCache\\local-packages\\Python310\\site-packages\\adapt\\instance_based\\_kliep.py:359\u001b[0m, in \u001b[0;36mKLIEP._fit\u001b[1;34m(self, Xs, Xt, kernel_params)\u001b[0m\n\u001b[0;32m    357\u001b[0m     \u001b[39mreturn\u001b[39;00m \u001b[39mself\u001b[39m\u001b[39m.\u001b[39m_fit_PG(Xs, Xt, PG\u001b[39m=\u001b[39m\u001b[39mTrue\u001b[39;00m, kernel_params\u001b[39m=\u001b[39mkernel_params)\n\u001b[0;32m    358\u001b[0m \u001b[39melif\u001b[39;00m \u001b[39mself\u001b[39m\u001b[39m.\u001b[39malgo \u001b[39m==\u001b[39m \u001b[39m\"\u001b[39m\u001b[39mFW\u001b[39m\u001b[39m\"\u001b[39m:\n\u001b[1;32m--> 359\u001b[0m     \u001b[39mreturn\u001b[39;00m \u001b[39mself\u001b[39;49m\u001b[39m.\u001b[39;49m_fit_FW(Xs, Xt, kernel_params\u001b[39m=\u001b[39;49mkernel_params)\n\u001b[0;32m    360\u001b[0m \u001b[39melse\u001b[39;00m :\n\u001b[0;32m    361\u001b[0m     \u001b[39mraise\u001b[39;00m \u001b[39mValueError\u001b[39;00m(\u001b[39m\"\u001b[39m\u001b[39m%s\u001b[39;00m\u001b[39m is not a valid value of algo\u001b[39m\u001b[39m\"\u001b[39m\u001b[39m%\u001b[39m\u001b[39mself\u001b[39m\u001b[39m.\u001b[39malgo)\n",
      "File \u001b[1;32m~\\AppData\\Local\\Packages\\PythonSoftwareFoundation.Python.3.10_qbz5n2kfra8p0\\LocalCache\\local-packages\\Python310\\site-packages\\adapt\\instance_based\\_kliep.py:448\u001b[0m, in \u001b[0;36mKLIEP._fit_FW\u001b[1;34m(self, Xs, Xt, kernel_params)\u001b[0m\n\u001b[0;32m    444\u001b[0m r \u001b[39m=\u001b[39m \u001b[39m1.\u001b[39m\u001b[39m/\u001b[39mnp\u001b[39m.\u001b[39mclip(np\u001b[39m.\u001b[39mdot(A, alpha), EPS, np\u001b[39m.\u001b[39minf)\n\u001b[0;32m    445\u001b[0m g \u001b[39m=\u001b[39m np\u001b[39m.\u001b[39mdot(\n\u001b[0;32m    446\u001b[0m     np\u001b[39m.\u001b[39mtranspose(A), r\n\u001b[0;32m    447\u001b[0m )\n\u001b[1;32m--> 448\u001b[0m B \u001b[39m=\u001b[39m np\u001b[39m.\u001b[39;49mdiag(\u001b[39m1\u001b[39;49m\u001b[39m/\u001b[39;49mb\u001b[39m.\u001b[39;49mravel())\n\u001b[0;32m    449\u001b[0m LP \u001b[39m=\u001b[39m np\u001b[39m.\u001b[39mdot(g\u001b[39m.\u001b[39mtranspose(), B)\n\u001b[0;32m    450\u001b[0m lr \u001b[39m=\u001b[39m \u001b[39m2\u001b[39m\u001b[39m/\u001b[39m(k\u001b[39m+\u001b[39m\u001b[39m2\u001b[39m)\n",
      "File \u001b[1;32m<__array_function__ internals>:180\u001b[0m, in \u001b[0;36mdiag\u001b[1;34m(*args, **kwargs)\u001b[0m\n",
      "File \u001b[1;32m~\\AppData\\Local\\Packages\\PythonSoftwareFoundation.Python.3.10_qbz5n2kfra8p0\\LocalCache\\local-packages\\Python310\\site-packages\\numpy\\lib\\twodim_base.py:299\u001b[0m, in \u001b[0;36mdiag\u001b[1;34m(v, k)\u001b[0m\n\u001b[0;32m    297\u001b[0m \u001b[39mif\u001b[39;00m \u001b[39mlen\u001b[39m(s) \u001b[39m==\u001b[39m \u001b[39m1\u001b[39m:\n\u001b[0;32m    298\u001b[0m     n \u001b[39m=\u001b[39m s[\u001b[39m0\u001b[39m]\u001b[39m+\u001b[39m\u001b[39mabs\u001b[39m(k)\n\u001b[1;32m--> 299\u001b[0m     res \u001b[39m=\u001b[39m zeros((n, n), v\u001b[39m.\u001b[39;49mdtype)\n\u001b[0;32m    300\u001b[0m     \u001b[39mif\u001b[39;00m k \u001b[39m>\u001b[39m\u001b[39m=\u001b[39m \u001b[39m0\u001b[39m:\n\u001b[0;32m    301\u001b[0m         i \u001b[39m=\u001b[39m k\n",
      "\u001b[1;31mKeyboardInterrupt\u001b[0m: "
     ]
    }
   ],
   "source": [
    "\n",
    "#0.0185\n",
    "lasso_parameters = {\n",
    "'alpha': np.arange(1, 2, 0.05),\n",
    "'regularization': np.arange(0, 0.1, 0.005)\n",
    "}\n",
    "\n",
    "params = []\n",
    "score = []\n",
    "#for alpha in lasso_parameters['alpha']:\n",
    "alpha = 1.2\n",
    "\n",
    "for regularization in lasso_parameters['regularization']:\n",
    "    model = CustomLinearModel(alpha = alpha, regularization=regularization, optim = 'BFGS')\n",
    "    #model = Lasso(alpha = regularization)\n",
    "    model = KLIEP(model, Xt=X_test_augmented, kernel=\"rbf\", gamma=[0.01], random_state=0,verbose=0)\n",
    "    #model.fit(X_train_augmented_t, y_train)\n",
    "    params.append({'alpha':1.2,'regularization':regularization})\n",
    "    s = evaluate_model_mean(X_train_augmented,y_train,model, stratify = X_train_COUNTRY,  state = 20, test_size=0.3)\n",
    "    print(alpha, regularization, s)#, np.sum(model.coef_!=0))\n",
    "    score.append(s)\n"
   ]
  },
  {
   "cell_type": "code",
   "execution_count": null,
   "metadata": {},
   "outputs": [
    {
     "data": {
      "text/plain": [
       "\"\\nscore = np.array(score)\\nplt.plot(score[:,0],label = 'all')\\nplt.plot(score[:,1],label='FR')\\nplt.plot(score[:,2],label ='DE')\\nplt.legend()\\nplt.plot()\\n\""
      ]
     },
     "execution_count": 154,
     "metadata": {},
     "output_type": "execute_result"
    }
   ],
   "source": [
    "'''\n",
    "score = np.array(score)\n",
    "plt.plot(score[:,0],label = 'all')\n",
    "plt.plot(score[:,1],label='FR')\n",
    "plt.plot(score[:,2],label ='DE')\n",
    "plt.legend()\n",
    "plt.plot()\n",
    "'''"
   ]
  },
  {
   "cell_type": "code",
   "execution_count": null,
   "metadata": {},
   "outputs": [],
   "source": [
    "#l1_lasso_model = CustomLinearModel(alpha = 1.2, regularization = 0.0169)\n",
    "#print(evaluate_model_mean(np.array(X_train), y_train, l1_lasso_model, test_size=0.33, loss = my_custom_loss_func, state = 100))\n",
    "#l1_lasso_model.fit(X_train,y_train)\n",
    "y_predict = model.predict(np.array(X_test_augmented))"
   ]
  },
  {
   "cell_type": "code",
   "execution_count": null,
   "metadata": {},
   "outputs": [],
   "source": [
    "sub = pd.DataFrame()\n",
    "sub['ID'] = id_test\n",
    "sub['TARGET'] = y_predict\n",
    "sub.to_csv(\"submissions/best_mape_augmented_3.csv\",index=False)"
   ]
  },
  {
   "cell_type": "code",
   "execution_count": null,
   "metadata": {},
   "outputs": [
    {
     "data": {
      "text/html": [
       "<div>\n",
       "<style scoped>\n",
       "    .dataframe tbody tr th:only-of-type {\n",
       "        vertical-align: middle;\n",
       "    }\n",
       "\n",
       "    .dataframe tbody tr th {\n",
       "        vertical-align: top;\n",
       "    }\n",
       "\n",
       "    .dataframe thead th {\n",
       "        text-align: right;\n",
       "    }\n",
       "</style>\n",
       "<table border=\"1\" class=\"dataframe\">\n",
       "  <thead>\n",
       "    <tr style=\"text-align: right;\">\n",
       "      <th></th>\n",
       "      <th>ID</th>\n",
       "      <th>TARGET</th>\n",
       "    </tr>\n",
       "  </thead>\n",
       "  <tbody>\n",
       "    <tr>\n",
       "      <th>446</th>\n",
       "      <td>1626</td>\n",
       "      <td>-0.001026</td>\n",
       "    </tr>\n",
       "    <tr>\n",
       "      <th>231</th>\n",
       "      <td>410</td>\n",
       "      <td>0.005704</td>\n",
       "    </tr>\n",
       "    <tr>\n",
       "      <th>570</th>\n",
       "      <td>562</td>\n",
       "      <td>0.171127</td>\n",
       "    </tr>\n",
       "    <tr>\n",
       "      <th>120</th>\n",
       "      <td>1778</td>\n",
       "      <td>0.106062</td>\n",
       "    </tr>\n",
       "    <tr>\n",
       "      <th>491</th>\n",
       "      <td>1966</td>\n",
       "      <td>0.051121</td>\n",
       "    </tr>\n",
       "    <tr>\n",
       "      <th>...</th>\n",
       "      <td>...</td>\n",
       "      <td>...</td>\n",
       "    </tr>\n",
       "    <tr>\n",
       "      <th>556</th>\n",
       "      <td>452</td>\n",
       "      <td>-0.021003</td>\n",
       "    </tr>\n",
       "    <tr>\n",
       "      <th>89</th>\n",
       "      <td>1668</td>\n",
       "      <td>-0.014898</td>\n",
       "    </tr>\n",
       "    <tr>\n",
       "      <th>341</th>\n",
       "      <td>1486</td>\n",
       "      <td>0.080879</td>\n",
       "    </tr>\n",
       "    <tr>\n",
       "      <th>321</th>\n",
       "      <td>270</td>\n",
       "      <td>0.099224</td>\n",
       "    </tr>\n",
       "    <tr>\n",
       "      <th>1</th>\n",
       "      <td>1202</td>\n",
       "      <td>0.117133</td>\n",
       "    </tr>\n",
       "  </tbody>\n",
       "</table>\n",
       "<p>654 rows × 2 columns</p>\n",
       "</div>"
      ],
      "text/plain": [
       "       ID    TARGET\n",
       "446  1626 -0.001026\n",
       "231   410  0.005704\n",
       "570   562  0.171127\n",
       "120  1778  0.106062\n",
       "491  1966  0.051121\n",
       "..    ...       ...\n",
       "556   452 -0.021003\n",
       "89   1668 -0.014898\n",
       "341  1486  0.080879\n",
       "321   270  0.099224\n",
       "1    1202  0.117133\n",
       "\n",
       "[654 rows x 2 columns]"
      ]
     },
     "execution_count": 157,
     "metadata": {},
     "output_type": "execute_result"
    }
   ],
   "source": [
    "sub"
   ]
  },
  {
   "cell_type": "code",
   "execution_count": null,
   "metadata": {},
   "outputs": [
    {
     "data": {
      "text/html": [
       "<div>\n",
       "<style scoped>\n",
       "    .dataframe tbody tr th:only-of-type {\n",
       "        vertical-align: middle;\n",
       "    }\n",
       "\n",
       "    .dataframe tbody tr th {\n",
       "        vertical-align: top;\n",
       "    }\n",
       "\n",
       "    .dataframe thead th {\n",
       "        text-align: right;\n",
       "    }\n",
       "</style>\n",
       "<table border=\"1\" class=\"dataframe\">\n",
       "  <thead>\n",
       "    <tr style=\"text-align: right;\">\n",
       "      <th></th>\n",
       "      <th>ID</th>\n",
       "      <th>TARGET_x</th>\n",
       "      <th>TARGET_y</th>\n",
       "    </tr>\n",
       "  </thead>\n",
       "  <tbody>\n",
       "    <tr>\n",
       "      <th>ID</th>\n",
       "      <td>1.000000</td>\n",
       "      <td>-0.215268</td>\n",
       "      <td>0.112504</td>\n",
       "    </tr>\n",
       "    <tr>\n",
       "      <th>TARGET_x</th>\n",
       "      <td>-0.215268</td>\n",
       "      <td>1.000000</td>\n",
       "      <td>0.652887</td>\n",
       "    </tr>\n",
       "    <tr>\n",
       "      <th>TARGET_y</th>\n",
       "      <td>0.112504</td>\n",
       "      <td>0.652887</td>\n",
       "      <td>1.000000</td>\n",
       "    </tr>\n",
       "  </tbody>\n",
       "</table>\n",
       "</div>"
      ],
      "text/plain": [
       "                ID  TARGET_x  TARGET_y\n",
       "ID        1.000000 -0.215268  0.112504\n",
       "TARGET_x -0.215268  1.000000  0.652887\n",
       "TARGET_y  0.112504  0.652887  1.000000"
      ]
     },
     "execution_count": 158,
     "metadata": {},
     "output_type": "execute_result"
    }
   ],
   "source": [
    "y_best = pd.read_csv(\"submissions/best_models/best_mape_augmented_3.csv\")\n",
    "test = pd.merge(sub,y_best,on='ID')\n",
    "test.corr()"
   ]
  },
  {
   "cell_type": "code",
   "execution_count": null,
   "metadata": {},
   "outputs": [
    {
     "data": {
      "text/html": [
       "<div>\n",
       "<style scoped>\n",
       "    .dataframe tbody tr th:only-of-type {\n",
       "        vertical-align: middle;\n",
       "    }\n",
       "\n",
       "    .dataframe tbody tr th {\n",
       "        vertical-align: top;\n",
       "    }\n",
       "\n",
       "    .dataframe thead th {\n",
       "        text-align: right;\n",
       "    }\n",
       "</style>\n",
       "<table border=\"1\" class=\"dataframe\">\n",
       "  <thead>\n",
       "    <tr style=\"text-align: right;\">\n",
       "      <th></th>\n",
       "      <th>ID</th>\n",
       "      <th>TARGET_x</th>\n",
       "      <th>TARGET_y</th>\n",
       "    </tr>\n",
       "  </thead>\n",
       "  <tbody>\n",
       "    <tr>\n",
       "      <th>ID</th>\n",
       "      <td>391499.374770</td>\n",
       "      <td>-7.857542</td>\n",
       "      <td>13.063124</td>\n",
       "    </tr>\n",
       "    <tr>\n",
       "      <th>TARGET_x</th>\n",
       "      <td>-7.857542</td>\n",
       "      <td>0.003403</td>\n",
       "      <td>0.007068</td>\n",
       "    </tr>\n",
       "    <tr>\n",
       "      <th>TARGET_y</th>\n",
       "      <td>13.063124</td>\n",
       "      <td>0.007068</td>\n",
       "      <td>0.034437</td>\n",
       "    </tr>\n",
       "  </tbody>\n",
       "</table>\n",
       "</div>"
      ],
      "text/plain": [
       "                     ID  TARGET_x   TARGET_y\n",
       "ID        391499.374770 -7.857542  13.063124\n",
       "TARGET_x      -7.857542  0.003403   0.007068\n",
       "TARGET_y      13.063124  0.007068   0.034437"
      ]
     },
     "execution_count": 159,
     "metadata": {},
     "output_type": "execute_result"
    }
   ],
   "source": [
    "test.cov()"
   ]
  },
  {
   "cell_type": "code",
   "execution_count": null,
   "metadata": {},
   "outputs": [],
   "source": []
  }
 ],
 "metadata": {
  "kernelspec": {
   "display_name": "Python 3",
   "language": "python",
   "name": "python3"
  },
  "language_info": {
   "codemirror_mode": {
    "name": "ipython",
    "version": 3
   },
   "file_extension": ".py",
   "mimetype": "text/x-python",
   "name": "python",
   "nbconvert_exporter": "python",
   "pygments_lexer": "ipython3",
   "version": "3.10.10"
  },
  "orig_nbformat": 4,
  "vscode": {
   "interpreter": {
    "hash": "fbccc05dc4c888eb06191605395e1f3420714a4fab311b29cb06bebce36a9c54"
   }
  }
 },
 "nbformat": 4,
 "nbformat_minor": 2
}
