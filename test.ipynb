{
 "cells": [
  {
   "cell_type": "code",
   "execution_count": 2,
   "metadata": {},
   "outputs": [],
   "source": [
    "import numpy as np"
   ]
  },
  {
   "cell_type": "code",
   "execution_count": 3,
   "metadata": {},
   "outputs": [],
   "source": [
    "import functools\n",
    "from scipy.stats import spearmanr\n",
    "\n",
    "def comparator(x,y):\n",
    "    u = np.random.uniform()\n",
    "    \n",
    "    if(u <=p):\n",
    "        return x-y\n",
    "    else:\n",
    "        return y-x    \n",
    "    \n",
    "def my_custom_loss_func(y_true, y_pred):\n",
    "    return spearmanr(y_true, y_pred).correlation"
   ]
  },
  {
   "cell_type": "code",
   "execution_count": 4,
   "metadata": {},
   "outputs": [],
   "source": [
    "def cal(n,state = 100):\n",
    "    score = []\n",
    "    for i in range(state):\n",
    "        a = np.arange(n)\n",
    "        b = a.copy()\n",
    "        np.random.shuffle(b)\n",
    "        b = sorted(b, key=functools.cmp_to_key(comparator))\n",
    "        score.append(my_custom_loss_func(a,b))\n",
    "    return np.mean(score)\n",
    "    "
   ]
  },
  {
   "cell_type": "code",
   "execution_count": 17,
   "metadata": {},
   "outputs": [
    {
     "data": {
      "text/plain": [
       "0.3375873950803103"
      ]
     },
     "execution_count": 17,
     "metadata": {},
     "output_type": "execute_result"
    }
   ],
   "source": [
    "p = 0.66\n",
    "cal(640,100)"
   ]
  },
  {
   "cell_type": "code",
   "execution_count": null,
   "metadata": {},
   "outputs": [],
   "source": []
  }
 ],
 "metadata": {
  "kernelspec": {
   "display_name": "Python 3",
   "language": "python",
   "name": "python3"
  },
  "language_info": {
   "codemirror_mode": {
    "name": "ipython",
    "version": 3
   },
   "file_extension": ".py",
   "mimetype": "text/x-python",
   "name": "python",
   "nbconvert_exporter": "python",
   "pygments_lexer": "ipython3",
   "version": "3.10.10"
  },
  "orig_nbformat": 4,
  "vscode": {
   "interpreter": {
    "hash": "fbccc05dc4c888eb06191605395e1f3420714a4fab311b29cb06bebce36a9c54"
   }
  }
 },
 "nbformat": 4,
 "nbformat_minor": 2
}
